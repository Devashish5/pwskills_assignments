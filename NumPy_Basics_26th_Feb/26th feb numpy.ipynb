{
 "cells": [
  {
   "cell_type": "code",
   "execution_count": 2,
   "id": "cff0b674-2bb1-4d7c-822e-8bb145563f7c",
   "metadata": {},
   "outputs": [],
   "source": [
    "import numpy as np\n",
    "\n",
    "list_ = [ '1' , '2' , '3' , '4' , '5' ]\n",
    "\n",
    "array_list = np.array(object = list_)"
   ]
  },
  {
   "cell_type": "markdown",
   "id": "6ef65f8e-f59e-4622-9278-663eb44cf341",
   "metadata": {
    "tags": []
   },
   "source": [
    "# Q1. Is there any difference in the data type of variables list_ and array_list? If there is then write a code to print the data types of both the variables."
   ]
  },
  {
   "cell_type": "markdown",
   "id": "0ec64458-7370-416c-a5c7-d2d63091107d",
   "metadata": {},
   "source": [
    "### yes there is a difference between data type of list_ and array_list. list_ is of list type and When we ask for the type of an NumPy object, we get the type of the container--something like numpy.ndarray. While when we ask for the dtype, we get the (numpy-managed) type of the elements."
   ]
  },
  {
   "cell_type": "code",
   "execution_count": 3,
   "id": "c94b6731-8892-4ad6-b615-7c7eacaae3f7",
   "metadata": {},
   "outputs": [
    {
     "name": "stdout",
     "output_type": "stream",
     "text": [
      "<class 'list'>\n",
      "<class 'numpy.ndarray'>\n",
      "<U1\n"
     ]
    }
   ],
   "source": [
    "print(type(list_))\n",
    "print(type(array_list))\n",
    "print(array_list.dtype)"
   ]
  },
  {
   "cell_type": "code",
   "execution_count": null,
   "id": "1b518a71-6ed2-40a1-9eb4-a6689b1f3b25",
   "metadata": {},
   "outputs": [],
   "source": []
  },
  {
   "cell_type": "markdown",
   "id": "181d8112-d808-4cc8-8966-01165fb8510e",
   "metadata": {},
   "source": [
    "# Q2. Write a code to print the data type of each and every element of both the variables list_ and array_list"
   ]
  },
  {
   "cell_type": "code",
   "execution_count": 3,
   "id": "b10a97f0-3c42-44a6-aad0-06d5513a52df",
   "metadata": {},
   "outputs": [
    {
     "name": "stdout",
     "output_type": "stream",
     "text": [
      "<class 'str'>\n",
      "<class 'str'>\n",
      "<class 'str'>\n",
      "<class 'str'>\n",
      "<class 'str'>\n"
     ]
    }
   ],
   "source": [
    "# data type of each element in list_\n",
    "for i in list_:\n",
    "    print(type(i))"
   ]
  },
  {
   "cell_type": "code",
   "execution_count": 4,
   "id": "f58e67c0-d8aa-4bd4-b209-06d1d114b446",
   "metadata": {},
   "outputs": [
    {
     "data": {
      "text/plain": [
       "dtype('<U1')"
      ]
     },
     "execution_count": 4,
     "metadata": {},
     "output_type": "execute_result"
    }
   ],
   "source": [
    "# type of elements in Array\n",
    "array_list.dtype"
   ]
  },
  {
   "cell_type": "code",
   "execution_count": null,
   "id": "48bbd5ae-8cfb-4fce-b7fb-da6b1dcb6722",
   "metadata": {},
   "outputs": [],
   "source": []
  },
  {
   "cell_type": "markdown",
   "id": "2ffc5238-8624-41f4-8f42-5821b3fec072",
   "metadata": {},
   "source": [
    "# Q3. Considering the following changes in the variable, array_list:\n",
    "\n",
    "# array_list = np.array(object = list_, dtype = int)\n",
    "\n",
    "# Will there be any difference in the data type of the elements present in both the variables, list_ and arra_list? If so then print the data types of each and every element present in both the variables, list_ and arra_list.\n"
   ]
  },
  {
   "cell_type": "code",
   "execution_count": null,
   "id": "d5c2096b-6491-423a-a91a-d4d733e8827a",
   "metadata": {},
   "outputs": [],
   "source": []
  },
  {
   "cell_type": "code",
   "execution_count": 5,
   "id": "bbde7288-fabb-47ea-8b75-d8fbba8bfa97",
   "metadata": {},
   "outputs": [],
   "source": [
    "array_list = np.array(object = list_, dtype = int)"
   ]
  },
  {
   "cell_type": "markdown",
   "id": "7b252445-ed32-4490-a857-3e771be240e8",
   "metadata": {},
   "source": [
    "### yes there will be a difference in the data type of the elements presents in both variables.\n",
    "### list_ : elements in list_ will be of string type\n",
    "### array_list : elements in the array_list is of the integer type."
   ]
  },
  {
   "cell_type": "code",
   "execution_count": 7,
   "id": "6fff24f6-a26a-4572-b7c3-6caf2eb261f1",
   "metadata": {},
   "outputs": [
    {
     "name": "stdout",
     "output_type": "stream",
     "text": [
      "<class 'str'>\n",
      "<class 'str'>\n",
      "<class 'str'>\n",
      "<class 'str'>\n",
      "<class 'str'>\n"
     ]
    }
   ],
   "source": [
    "for i in list_:\n",
    "    print(type(i))"
   ]
  },
  {
   "cell_type": "code",
   "execution_count": 8,
   "id": "773db569-84b4-434a-b773-430b79ddbb1a",
   "metadata": {},
   "outputs": [
    {
     "data": {
      "text/plain": [
       "dtype('int64')"
      ]
     },
     "execution_count": 8,
     "metadata": {},
     "output_type": "execute_result"
    }
   ],
   "source": [
    "array_list.dtype"
   ]
  },
  {
   "cell_type": "code",
   "execution_count": null,
   "id": "75003ce9-9504-4f37-8302-ec0c0f5195ef",
   "metadata": {},
   "outputs": [],
   "source": []
  },
  {
   "cell_type": "markdown",
   "id": "b1c6e51b-8663-4b74-b579-f53ad53109dd",
   "metadata": {},
   "source": [
    "# Q4. Write a code to find the following characteristics of variable, num_array:\n",
    "# (i)  shape\n",
    "# (ii) size"
   ]
  },
  {
   "cell_type": "code",
   "execution_count": 9,
   "id": "78f58ecf-d3b5-404f-83cf-d203c2645cca",
   "metadata": {},
   "outputs": [],
   "source": [
    "import numpy as np\n",
    "\n",
    "num_list = [ [ 1 , 2 , 3 ] , [ 4 , 5 , 6 ] ]\n",
    "\n",
    "num_array = np.array(object = num_list)"
   ]
  },
  {
   "cell_type": "code",
   "execution_count": 11,
   "id": "b6d0cf10-9caf-48c5-aa97-f6134c35cef7",
   "metadata": {},
   "outputs": [
    {
     "name": "stdout",
     "output_type": "stream",
     "text": [
      "the shape of the array is :(2, 3)\n",
      "the size of the array is :6\n"
     ]
    }
   ],
   "source": [
    "print(f\"the shape of the array is :{ num_array.shape}\")\n",
    "print(f\"the size of the array is :{ num_array.size}\")"
   ]
  },
  {
   "cell_type": "code",
   "execution_count": null,
   "id": "8c6f829a-7647-40e0-beae-f66013b84f44",
   "metadata": {},
   "outputs": [],
   "source": []
  },
  {
   "cell_type": "markdown",
   "id": "4c330bd6-7445-4726-9863-59aece005296",
   "metadata": {},
   "source": [
    "# Q5. Write a code to create numpy array of 3*3 matrix containing zeros only, using a numpy array creation function."
   ]
  },
  {
   "cell_type": "code",
   "execution_count": 16,
   "id": "9de41137-5963-4cbd-9986-76b24aa6ca13",
   "metadata": {},
   "outputs": [
    {
     "name": "stdout",
     "output_type": "stream",
     "text": [
      "arrays 3*3 with zeros only \n",
      " [[0. 0. 0.]\n",
      " [0. 0. 0.]\n",
      " [0. 0. 0.]]\n"
     ]
    }
   ],
   "source": [
    "arr= np.zeros((3,3))\n",
    "print(f\"arrays 3*3 with zeros only \\n {arr}\")"
   ]
  },
  {
   "cell_type": "code",
   "execution_count": null,
   "id": "45573983-63d5-40ad-9507-2f906ff76746",
   "metadata": {},
   "outputs": [],
   "source": []
  },
  {
   "cell_type": "markdown",
   "id": "c604afee-06d8-47d9-9b6f-189a4242f160",
   "metadata": {},
   "source": [
    "# Q6. Create an identity matrix of shape (5,5) using numpy functions?"
   ]
  },
  {
   "cell_type": "code",
   "execution_count": 15,
   "id": "d0215357-2a26-4fe2-a28c-2bf0b02e2d83",
   "metadata": {},
   "outputs": [
    {
     "name": "stdout",
     "output_type": "stream",
     "text": [
      "identity matrix with shape 5X5 is \n",
      " [[1. 0. 0. 0. 0.]\n",
      " [0. 1. 0. 0. 0.]\n",
      " [0. 0. 1. 0. 0.]\n",
      " [0. 0. 0. 1. 0.]\n",
      " [0. 0. 0. 0. 1.]]\n"
     ]
    }
   ],
   "source": [
    "arr_id5=np.eye(5)\n",
    "print(f\"identity matrix with shape 5X5 is \\n {arr_id5}\")"
   ]
  },
  {
   "cell_type": "code",
   "execution_count": null,
   "id": "cb8e1984-413e-4d5f-bd88-f07cfe7f6a4c",
   "metadata": {},
   "outputs": [],
   "source": []
  }
 ],
 "metadata": {
  "kernelspec": {
   "display_name": "Python 3 (ipykernel)",
   "language": "python",
   "name": "python3"
  },
  "language_info": {
   "codemirror_mode": {
    "name": "ipython",
    "version": 3
   },
   "file_extension": ".py",
   "mimetype": "text/x-python",
   "name": "python",
   "nbconvert_exporter": "python",
   "pygments_lexer": "ipython3",
   "version": "3.10.8"
  }
 },
 "nbformat": 4,
 "nbformat_minor": 5
}
