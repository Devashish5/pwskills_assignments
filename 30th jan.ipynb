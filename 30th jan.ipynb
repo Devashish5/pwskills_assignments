{
 "cells": [
  {
   "cell_type": "markdown",
   "id": "a6805da6-c6cf-46b5-a96c-8d10ddd949f3",
   "metadata": {},
   "source": [
    "# Q1 Write a program to accept percentage from the user and display the grade according to the following criteria\n",
    "\n",
    "#   >90 then grade A\n",
    "# >80 & <=90 then grade B\n",
    "# >=60 & <=80 then grade C\n",
    "# Below 60 then grade D"
   ]
  },
  {
   "cell_type": "code",
   "execution_count": 1,
   "id": "46f2da08-ef0f-4444-9980-67683db02528",
   "metadata": {},
   "outputs": [
    {
     "name": "stdin",
     "output_type": "stream",
     "text": [
      "please enter the percentage 77\n"
     ]
    },
    {
     "name": "stdout",
     "output_type": "stream",
     "text": [
      "the percentage is 77 and corresponding grade is C\n"
     ]
    }
   ],
   "source": [
    "percentage = int(input (\"please enter the percentage\"))\n",
    "if percentage>90:\n",
    "    grade=\"A\"\n",
    "elif (percentage<=90 and percentage>80): \n",
    "    grade=\"B\"\n",
    "elif (percentage<=80 and percentage>=60):\n",
    "    grade=\"C\"\n",
    "else :\n",
    "    grade =\"D\"\n",
    "print (\"the percentage is {p} and corresponding grade is {g}\".format (p=percentage,g=grade))"
   ]
  },
  {
   "cell_type": "code",
   "execution_count": null,
   "id": "c0a252c2-4ab3-428d-80a5-6810f3aaa251",
   "metadata": {},
   "outputs": [],
   "source": []
  },
  {
   "cell_type": "markdown",
   "id": "e22d95b4-27ec-44ba-9e0f-1b87bc596ae3",
   "metadata": {},
   "source": [
    "# Q2 write a program to accept cost price of a bike and display the road tax to be paid according to the following criteria\n",
    "# If cost is <=50000 then tax is 5%\n",
    "# if cost is >50000 and <=100000 then tax is 10%\n",
    "# if cost >100000 then tax is 15%"
   ]
  },
  {
   "cell_type": "code",
   "execution_count": 2,
   "id": "64416c99-badf-4a56-9ab2-0150ccb318a2",
   "metadata": {},
   "outputs": [
    {
     "name": "stdin",
     "output_type": "stream",
     "text": [
      "please enter the cost price 90000\n"
     ]
    },
    {
     "name": "stdout",
     "output_type": "stream",
     "text": [
      "cost price of the bike is 90000 and the tax to be paid is 10%\n"
     ]
    }
   ],
   "source": [
    "cost_price = int(input (\"please enter the cost price\"))\n",
    "if cost_price<=50000:\n",
    "    tax=\"5%\"\n",
    "elif (cost_price>50000 and cost_price<=100000): \n",
    "     tax=\"10%\"\n",
    "else:\n",
    "    tax =\"15%\"\n",
    "print(\"cost price of the bike is {c} and the tax to be paid is {t}\".format(c=cost_price,t=tax))"
   ]
  },
  {
   "cell_type": "code",
   "execution_count": null,
   "id": "3e95450a-4ec1-4f1b-98eb-5fc7027ab872",
   "metadata": {},
   "outputs": [],
   "source": []
  },
  {
   "cell_type": "markdown",
   "id": "08ea3728-97c3-4b9a-b1a0-651e3c3ace18",
   "metadata": {},
   "source": [
    "# Q3 accept any city from the user and display manuments from the city.\n",
    "# if city is delhi monument is red fort\n",
    "# if city is agra monumnent is taj mahal\n",
    "# if city is jaipur monumnent is jal mahal"
   ]
  },
  {
   "cell_type": "code",
   "execution_count": 3,
   "id": "99c1d1d1-6930-42ab-b3c1-bd01c588e9af",
   "metadata": {},
   "outputs": [
    {
     "name": "stdin",
     "output_type": "stream",
     "text": [
      "enter name of the city delhi\n"
     ]
    },
    {
     "name": "stdout",
     "output_type": "stream",
     "text": [
      "the city entered is delhi and the monument found there is red fort\n"
     ]
    }
   ],
   "source": [
    "city=input(\"enter name of the city\")\n",
    "if city==\"delhi\":\n",
    "    monu=\"red fort\"\n",
    "    print (\"the city entered is {c} and the monument found there is {m}\".format(c=city,m=monu))\n",
    "elif city==\"agra\":\n",
    "    monu=\"taj mahal\"\n",
    "    print (\"the city entered is {c} and the monument found there is {m}\".format(c=city,m=monu))\n",
    "elif city==\"jaipur\":\n",
    "    monu=\"jal mahal\"\n",
    "    print (\"the city entered is {c} and the monument found there is {m}\".format(c=city,m=monu))\n",
    "else:\n",
    "    print(\"city not entered from the specfied list\")"
   ]
  },
  {
   "cell_type": "code",
   "execution_count": null,
   "id": "196948c8-4df8-4f10-8f7d-bb998e2e184f",
   "metadata": {},
   "outputs": [],
   "source": []
  },
  {
   "cell_type": "markdown",
   "id": "f26802d9-02ba-4110-9d6d-5a0cb61286d0",
   "metadata": {},
   "source": [
    "# Q4 Check how many times a number can be divided by 3 befpre it is less than or equal to 10"
   ]
  },
  {
   "cell_type": "code",
   "execution_count": 4,
   "id": "14c00789-45f3-4c43-a9ad-fc3b91943d1e",
   "metadata": {},
   "outputs": [
    {
     "name": "stdin",
     "output_type": "stream",
     "text": [
      "enter the number to be checked 2023\n"
     ]
    },
    {
     "name": "stdout",
     "output_type": "stream",
     "text": [
      "the number of times the number is divided by 3 is  5\n"
     ]
    }
   ],
   "source": [
    "num=int(input(\"enter the number to be checked\"))\n",
    "count=0\n",
    "while (num>10):\n",
    "    num=num/3\n",
    "    count=count+1\n",
    "print(\"the number of times the number is divided by 3 is \", count)\n"
   ]
  },
  {
   "cell_type": "code",
   "execution_count": null,
   "id": "22e621a4-6101-40d3-8c4d-ffecae97b014",
   "metadata": {},
   "outputs": [],
   "source": []
  },
  {
   "cell_type": "markdown",
   "id": "72c6eaee-f687-4898-913f-ec90e7327a59",
   "metadata": {},
   "source": [
    "# Q5 Why and when to use a while loop in python give a detailed description with example."
   ]
  },
  {
   "cell_type": "markdown",
   "id": "a480060f-20aa-4544-bb66-31e6b35c4ac4",
   "metadata": {},
   "source": [
    "### When we want iterate some condition we use a while loop. A while loop will run a piece of code while a condition is True. It will keep executing the desired set of code statements until that condition is no longer True."
   ]
  },
  {
   "cell_type": "code",
   "execution_count": 1,
   "id": "b03c9c40-8436-420b-9486-a6eaa3e705c2",
   "metadata": {},
   "outputs": [
    {
     "name": "stdout",
     "output_type": "stream",
     "text": [
      "The current number is 0\n",
      "The current number is 1\n",
      "The current number is 2\n",
      "The current number is 3\n",
      "The current number is 4\n",
      "The current number is 5\n",
      "The current number is 6\n",
      "The current number is 7\n",
      "The current number is 8\n",
      "The current number is 9\n"
     ]
    }
   ],
   "source": [
    "number = 0\n",
    "while number < 10:\n",
    "    print(\"The current number is {n}\".format(n=number))\n",
    "    number = number + 1"
   ]
  },
  {
   "cell_type": "code",
   "execution_count": null,
   "id": "785b75e5-8512-4915-afcb-e17c5e99c59a",
   "metadata": {},
   "outputs": [],
   "source": []
  },
  {
   "cell_type": "markdown",
   "id": "c444a567-290a-4379-bce2-1018c8820652",
   "metadata": {},
   "source": [
    "# Q6 Use nested while loop to print 3 different pattern"
   ]
  },
  {
   "cell_type": "code",
   "execution_count": 1,
   "id": "dd0f0da6-42ad-4b59-b1cb-28008e9bc67c",
   "metadata": {},
   "outputs": [
    {
     "name": "stdin",
     "output_type": "stream",
     "text": [
      "Enter number of rows :  6\n"
     ]
    },
    {
     "name": "stdout",
     "output_type": "stream",
     "text": [
      "* \n",
      "* * \n",
      "* * * \n",
      "* * * * \n",
      "* * * * * \n"
     ]
    }
   ],
   "source": [
    "# pattern 1\n",
    "n = int(input('Enter number of rows : '))\n",
    "i=1\n",
    "while i<n:\n",
    "    j=1\n",
    "    while j<=i:\n",
    "        print (\"*\", end = ' ')\n",
    "        j += 1\n",
    "    print()\n",
    "    i += 1"
   ]
  },
  {
   "cell_type": "code",
   "execution_count": 3,
   "id": "6e47a280-effa-4a3d-afad-8a9fb06eec8b",
   "metadata": {},
   "outputs": [
    {
     "name": "stdin",
     "output_type": "stream",
     "text": [
      "Enter number of rows :  6\n"
     ]
    },
    {
     "name": "stdout",
     "output_type": "stream",
     "text": [
      "* * * * * * \n",
      "* * * * * \n",
      "* * * * \n",
      "* * * \n",
      "* * \n",
      "* \n"
     ]
    }
   ],
   "source": [
    "# pattern 2\n",
    "n = int(input('Enter number of rows : '))\n",
    "i=1\n",
    "while i<=n:\n",
    "    j=n\n",
    "    while j>=i:\n",
    "        print (\"*\", end = ' ')\n",
    "        j -= 1\n",
    "    print()\n",
    "    i += 1"
   ]
  },
  {
   "cell_type": "code",
   "execution_count": 4,
   "id": "c1ed8660-f77b-42ca-b31e-ff9337239d87",
   "metadata": {},
   "outputs": [
    {
     "name": "stdin",
     "output_type": "stream",
     "text": [
      "Enter number of rows :  6\n"
     ]
    },
    {
     "name": "stdout",
     "output_type": "stream",
     "text": [
      "1 \n",
      "2 2 \n",
      "3 3 3 \n",
      "4 4 4 4 \n",
      "5 5 5 5 5 \n",
      "6 6 6 6 6 6 \n"
     ]
    }
   ],
   "source": [
    "# pattern 3\n",
    "n = int(input('Enter number of rows : '))\n",
    "i=1\n",
    "while i<=n:\n",
    "    j=1\n",
    "    while j<=i:\n",
    "        print (i,end=' ')\n",
    "        j += 1\n",
    "    print()\n",
    "    i += 1"
   ]
  },
  {
   "cell_type": "code",
   "execution_count": null,
   "id": "5824a03d-4ce8-41b2-8583-e2e81702befc",
   "metadata": {},
   "outputs": [],
   "source": []
  },
  {
   "cell_type": "code",
   "execution_count": 5,
   "id": "489d9710-c0b7-4435-886f-ef1e577c7580",
   "metadata": {},
   "outputs": [
    {
     "name": "stdout",
     "output_type": "stream",
     "text": [
      "10\n",
      "9\n",
      "8\n",
      "7\n",
      "6\n",
      "5\n",
      "4\n",
      "3\n",
      "2\n",
      "1\n"
     ]
    }
   ],
   "source": [
    "# Q7 Reverse a while loop to print from 10 to 1\n",
    "i=10\n",
    "while i>0:\n",
    "    print (i)\n",
    "    i-=1"
   ]
  },
  {
   "cell_type": "code",
   "execution_count": null,
   "id": "dc794c04-d8dd-4aa2-8168-98e4a4001327",
   "metadata": {},
   "outputs": [],
   "source": []
  }
 ],
 "metadata": {
  "kernelspec": {
   "display_name": "Python 3 (ipykernel)",
   "language": "python",
   "name": "python3"
  },
  "language_info": {
   "codemirror_mode": {
    "name": "ipython",
    "version": 3
   },
   "file_extension": ".py",
   "mimetype": "text/x-python",
   "name": "python",
   "nbconvert_exporter": "python",
   "pygments_lexer": "ipython3",
   "version": "3.10.8"
  }
 },
 "nbformat": 4,
 "nbformat_minor": 5
}
