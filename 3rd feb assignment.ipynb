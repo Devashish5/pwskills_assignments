{
 "cells": [
  {
   "cell_type": "markdown",
   "id": "7f425b8b-eae2-4dff-b8a9-9ff6e4041580",
   "metadata": {},
   "source": [
    "# Q1. Which keyword is used to create a function? Create a function to return a list of odd numbers in the range of 1 to 25."
   ]
  },
  {
   "cell_type": "markdown",
   "id": "fed907c0-abc1-46e9-9d1b-529b1c6b9276",
   "metadata": {},
   "source": [
    "### Keyword  \"def\" is used to create a function"
   ]
  },
  {
   "cell_type": "code",
   "execution_count": 4,
   "id": "5d469aa0-3983-49f5-a197-793dbfa23c5b",
   "metadata": {},
   "outputs": [],
   "source": [
    "def odd_num(b):\n",
    "    \n",
    "    if b%2==1:\n",
    "        print (b)"
   ]
  },
  {
   "cell_type": "code",
   "execution_count": 5,
   "id": "e168bbed-1e62-440e-953a-2b3fe0d5de62",
   "metadata": {},
   "outputs": [
    {
     "name": "stdout",
     "output_type": "stream",
     "text": [
      "1\n",
      "3\n",
      "5\n",
      "7\n",
      "9\n",
      "11\n",
      "13\n",
      "15\n",
      "17\n",
      "19\n",
      "21\n",
      "23\n"
     ]
    }
   ],
   "source": [
    "for i in range (1,25):\n",
    "    a=odd_num(i)"
   ]
  },
  {
   "cell_type": "markdown",
   "id": "5dd421dc-5934-449b-9304-a766dbaad996",
   "metadata": {},
   "source": [
    "# Q2. Why *args and **kwargs is used in some functions? Create a function each for *args and **kwargs to demonstrate their use."
   ]
  },
  {
   "cell_type": "markdown",
   "id": "cafeb312-82e1-415a-8bd9-35cf616d3a6e",
   "metadata": {},
   "source": [
    "### *args means that the function can take any number of arguments and every kind of argument during the runtime. **kwargs is used when we want to pass multiple dictionaries as arguments without being sure the exact number of arguments we need."
   ]
  },
  {
   "cell_type": "code",
   "execution_count": 9,
   "id": "0ee669f6-2830-4c7a-a718-b99a6f26e171",
   "metadata": {},
   "outputs": [],
   "source": [
    "def example1(*args):\n",
    "    return args"
   ]
  },
  {
   "cell_type": "code",
   "execution_count": 10,
   "id": "d66e8f0f-e87f-42bd-a550-d1fe176cffbe",
   "metadata": {},
   "outputs": [
    {
     "data": {
      "text/plain": [
       "(1, 2, 3, 4)"
      ]
     },
     "execution_count": 10,
     "metadata": {},
     "output_type": "execute_result"
    }
   ],
   "source": [
    "example1(1,2,3,4)"
   ]
  },
  {
   "cell_type": "code",
   "execution_count": 11,
   "id": "68533a9b-c7f2-42ad-a8f6-5c338d911f37",
   "metadata": {},
   "outputs": [
    {
     "data": {
      "text/plain": [
       "(1, 2, 3, 4, 5, 6, 7)"
      ]
     },
     "execution_count": 11,
     "metadata": {},
     "output_type": "execute_result"
    }
   ],
   "source": [
    "example1(1,2,3,4,5,6,7)"
   ]
  },
  {
   "cell_type": "code",
   "execution_count": 12,
   "id": "4f355943-5ceb-484d-9cd6-17d74320f4a2",
   "metadata": {},
   "outputs": [],
   "source": [
    "def example2(**kwargs):\n",
    "    return kwargs\n"
   ]
  },
  {
   "cell_type": "code",
   "execution_count": 13,
   "id": "9381b468-14c0-44f7-acbc-1cb2893c2d51",
   "metadata": {},
   "outputs": [
    {
     "data": {
      "text/plain": [
       "{'a': 1, 'b': 2, 'c': 3}"
      ]
     },
     "execution_count": 13,
     "metadata": {},
     "output_type": "execute_result"
    }
   ],
   "source": [
    "example2(a=1,b=2,c=3)"
   ]
  },
  {
   "cell_type": "code",
   "execution_count": 14,
   "id": "7ceaf267-48e8-4b00-8ec5-1fe6d03865e3",
   "metadata": {},
   "outputs": [
    {
     "data": {
      "text/plain": [
       "{'a': 1, 'b': 2, 'c': 3, 'd': [1, 2, 3], 'e': 'yes'}"
      ]
     },
     "execution_count": 14,
     "metadata": {},
     "output_type": "execute_result"
    }
   ],
   "source": [
    "example2(a=1,b=2,c=3,d=[1,2,3],e=\"yes\")"
   ]
  },
  {
   "cell_type": "code",
   "execution_count": null,
   "id": "5b99ab3d-aab8-45b9-abe4-604f68fa348a",
   "metadata": {},
   "outputs": [],
   "source": []
  },
  {
   "cell_type": "markdown",
   "id": "38ab5c6e-163a-4222-958e-cf8054fa4ad6",
   "metadata": {},
   "source": [
    "# Q3. What is an iterator in python? Name the method used to initialise the iterator object and the method used for iteration. Use these methods to print the first five elements of the given list [2, 4, 6, 8, 10, 12, 14, 16,18, 20]."
   ]
  },
  {
   "cell_type": "markdown",
   "id": "40dbf28f-d2ce-4863-933c-a01680f188d0",
   "metadata": {},
   "source": [
    "### An iterator is a function which is used to iterate or loop through the elements or items in the collections such as List, Set,tuples etc. iter() is used for intialising the object and next() is used for iteration"
   ]
  },
  {
   "cell_type": "code",
   "execution_count": 15,
   "id": "2008058e-306d-4e38-a4cf-a988280e77da",
   "metadata": {},
   "outputs": [],
   "source": [
    "list1= [2, 4, 6, 8, 10, 12, 14, 16,18, 20]"
   ]
  },
  {
   "cell_type": "code",
   "execution_count": 16,
   "id": "39e7216a-1055-4fe7-bd03-19510fe8fca0",
   "metadata": {},
   "outputs": [
    {
     "name": "stdout",
     "output_type": "stream",
     "text": [
      "2\n",
      "4\n",
      "6\n",
      "8\n",
      "10\n",
      "12\n",
      "14\n",
      "16\n",
      "18\n",
      "20\n"
     ]
    }
   ],
   "source": [
    "iterator=iter(list1)\n",
    "l=len(list1)\n",
    "for i in range (l):\n",
    "    print (next(iterator))\n"
   ]
  },
  {
   "cell_type": "code",
   "execution_count": null,
   "id": "aadf0094-75b8-422f-b661-5efad9cc98a4",
   "metadata": {},
   "outputs": [],
   "source": []
  },
  {
   "cell_type": "markdown",
   "id": "4c2c05b5-ab9e-4f59-96b6-6ed307b34750",
   "metadata": {},
   "source": [
    "# Q4. What is a generator function in python? Why yield keyword is used? Give an example of a generator function."
   ]
  },
  {
   "cell_type": "markdown",
   "id": "b6963c46-1a99-44fb-90b7-b621c46f3a45",
   "metadata": {},
   "source": [
    "### a generator is a function that returns an iterator that produces a sequence of values when iterated over. it uses yield instead of return statement"
   ]
  },
  {
   "cell_type": "code",
   "execution_count": 17,
   "id": "016dbb6a-e48d-4532-9591-63741f54547a",
   "metadata": {},
   "outputs": [],
   "source": [
    "# generator function to print square of first 10 natural numbers\n",
    "\n",
    "def test_gen(n):\n",
    "    for i in range (1,n+1):\n",
    "        a=i**2\n",
    "        yield a"
   ]
  },
  {
   "cell_type": "code",
   "execution_count": 18,
   "id": "6a6c0c9f-210b-4f89-820a-868c6eac9857",
   "metadata": {},
   "outputs": [
    {
     "name": "stdout",
     "output_type": "stream",
     "text": [
      "1\n",
      "4\n",
      "9\n",
      "16\n",
      "25\n",
      "36\n",
      "49\n",
      "64\n",
      "81\n",
      "100\n"
     ]
    }
   ],
   "source": [
    "for i in test_gen(10):\n",
    "    print (i)"
   ]
  },
  {
   "cell_type": "code",
   "execution_count": null,
   "id": "23b75d31-05e6-42d4-af8f-81db5c52c6c2",
   "metadata": {},
   "outputs": [],
   "source": []
  },
  {
   "cell_type": "markdown",
   "id": "5d494cc6-8669-443a-92a3-3187e3b346d7",
   "metadata": {},
   "source": [
    "# Q5. Create a generator function for prime numbers less than 1000. Use the next() method to print the first 20 prime numbers."
   ]
  },
  {
   "cell_type": "code",
   "execution_count": 1,
   "id": "a5edb43e-79bd-4c5a-9d00-7778f5bd9059",
   "metadata": {},
   "outputs": [],
   "source": [
    "def gen_prime(num):\n",
    "    for j in range (2,num):\n",
    "        a=0\n",
    "        for i in range (1,j+1):\n",
    "            if (j % i) == 0:\n",
    "                 a=a+1\n",
    "        if (a==2):\n",
    "            yield j\n",
    "                "
   ]
  },
  {
   "cell_type": "code",
   "execution_count": 2,
   "id": "4de31c71-4fc7-4fd2-894f-52c387ee3699",
   "metadata": {},
   "outputs": [
    {
     "name": "stdout",
     "output_type": "stream",
     "text": [
      "2\n",
      "3\n",
      "5\n",
      "7\n",
      "11\n",
      "13\n",
      "17\n",
      "19\n",
      "23\n",
      "29\n",
      "31\n",
      "37\n",
      "41\n",
      "43\n",
      "47\n"
     ]
    }
   ],
   "source": [
    "a=gen_prime(1000)\n",
    "for i in range (15):\n",
    "    print(next(a))"
   ]
  },
  {
   "cell_type": "code",
   "execution_count": null,
   "id": "8f0805b5-c642-47a0-bcc4-6e78541ec2f9",
   "metadata": {},
   "outputs": [],
   "source": []
  }
 ],
 "metadata": {
  "kernelspec": {
   "display_name": "Python 3 (ipykernel)",
   "language": "python",
   "name": "python3"
  },
  "language_info": {
   "codemirror_mode": {
    "name": "ipython",
    "version": 3
   },
   "file_extension": ".py",
   "mimetype": "text/x-python",
   "name": "python",
   "nbconvert_exporter": "python",
   "pygments_lexer": "ipython3",
   "version": "3.10.8"
  }
 },
 "nbformat": 4,
 "nbformat_minor": 5
}
