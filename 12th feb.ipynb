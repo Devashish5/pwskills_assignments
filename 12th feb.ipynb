{
 "cells": [
  {
   "cell_type": "markdown",
   "id": "1d53b200-a1e0-4928-97b3-b76cd94902be",
   "metadata": {},
   "source": [
    "# Q1. What is an Exception in python? Write the difference between Exceptions and syntax errors"
   ]
  },
  {
   "cell_type": "markdown",
   "id": "9da1d5ed-40c9-4aba-81a3-dfd00995b218",
   "metadata": {},
   "source": [
    "### An Exception is an error that happens during the execution of a program and are not unconditionally fatal. Whenever there is an error, Python generates an exception that could be handled. It basically prevents the program from getting crashed. \n",
    "\n",
    "### An syntax error is an issue in a program that prevents the program from completing its task. In comparison, an exception is a condition that interrupts the normal flow of the program. Both errors and exceptions are a type of runtime error, which means they occur during the execution of a program. "
   ]
  },
  {
   "cell_type": "code",
   "execution_count": null,
   "id": "9a0264bd-e2d6-4012-9344-c4724efabb5a",
   "metadata": {},
   "outputs": [],
   "source": []
  },
  {
   "cell_type": "code",
   "execution_count": null,
   "id": "7f1aa635-8f69-43f9-8d72-b0b767e8d381",
   "metadata": {},
   "outputs": [],
   "source": []
  },
  {
   "cell_type": "markdown",
   "id": "66b6bde0-115c-479b-9c5d-fcded6641454",
   "metadata": {},
   "source": [
    "# Q2  What happens when an exception is not handled ? Explain with an example"
   ]
  },
  {
   "cell_type": "markdown",
   "id": "538e4349-da97-4e64-be01-e434953f6ca1",
   "metadata": {},
   "source": [
    "### If an exception is not caught (with a catch block), the runtime system will abort the program (i.e. crash) and an exception message will print to the console. The message typically includes: name of exception type.\n"
   ]
  },
  {
   "cell_type": "code",
   "execution_count": 2,
   "id": "6943132b-e4c7-4f22-85b2-f0730a4169b6",
   "metadata": {},
   "outputs": [
    {
     "ename": "ZeroDivisionError",
     "evalue": "division by zero",
     "output_type": "error",
     "traceback": [
      "\u001b[0;31m---------------------------------------------------------------------------\u001b[0m",
      "\u001b[0;31mZeroDivisionError\u001b[0m                         Traceback (most recent call last)",
      "Cell \u001b[0;32mIn[2], line 1\u001b[0m\n\u001b[0;32m----> 1\u001b[0m a\u001b[38;5;241m=\u001b[39m\u001b[38;5;241;43m10\u001b[39;49m\u001b[38;5;241;43m/\u001b[39;49m\u001b[38;5;241;43m0\u001b[39;49m\n",
      "\u001b[0;31mZeroDivisionError\u001b[0m: division by zero"
     ]
    }
   ],
   "source": [
    "a=10/0"
   ]
  },
  {
   "cell_type": "code",
   "execution_count": null,
   "id": "811c5e3a-27ec-4729-bdf1-239ae1e44acb",
   "metadata": {},
   "outputs": [],
   "source": []
  },
  {
   "cell_type": "code",
   "execution_count": null,
   "id": "1b06786e-0621-4137-b155-d2dd05d02439",
   "metadata": {},
   "outputs": [],
   "source": []
  },
  {
   "cell_type": "markdown",
   "id": "abfc70b8-c73c-4a3f-9319-40688496a342",
   "metadata": {},
   "source": [
    "# Which Python statements are used to catch and handle exceptions ? Explain with an example"
   ]
  },
  {
   "cell_type": "code",
   "execution_count": null,
   "id": "16564cd3-5591-4c8a-bafc-9bacc5e4b7d3",
   "metadata": {},
   "outputs": [],
   "source": [
    "\n"
   ]
  },
  {
   "cell_type": "markdown",
   "id": "f23c7b79-f169-4bf2-b421-b8d0efd8e345",
   "metadata": {},
   "source": [
    "### The try and except block in Python is used to catch and handle exceptions.Python executes code following the try statement as a “normal” part of the program. The code that follows the except statement is the program’s response to any exceptions in the preceding try clause."
   ]
  },
  {
   "cell_type": "code",
   "execution_count": 3,
   "id": "771e9194-c609-4e2e-9103-b14db8ddc753",
   "metadata": {},
   "outputs": [
    {
     "name": "stdout",
     "output_type": "stream",
     "text": [
      "division by zero\n"
     ]
    }
   ],
   "source": [
    "try:\n",
    "    a=10\n",
    "    b=a/0\n",
    "except  ZeroDivisionError as e:\n",
    "    print(e)"
   ]
  },
  {
   "cell_type": "code",
   "execution_count": null,
   "id": "0ab4201f-96b6-41a7-a693-44b3608df7d4",
   "metadata": {},
   "outputs": [],
   "source": []
  },
  {
   "cell_type": "code",
   "execution_count": null,
   "id": "9c77ea4a-8e42-42f9-baaf-2fde4b8941ee",
   "metadata": {},
   "outputs": [],
   "source": []
  },
  {
   "cell_type": "markdown",
   "id": "c8549a66-f631-4c1b-a568-eb169be47386",
   "metadata": {},
   "source": [
    "# Q4 explain with an example \n",
    "#    a - Try and else\n",
    "#    b - Finally\n",
    "#    c - Raise"
   ]
  },
  {
   "cell_type": "code",
   "execution_count": null,
   "id": "32105664-3b93-43dc-bd75-722891ad48aa",
   "metadata": {},
   "outputs": [],
   "source": []
  },
  {
   "cell_type": "markdown",
   "id": "6f8f91ce-fa5c-437e-b2c5-35a3ef01876d",
   "metadata": {},
   "source": [
    "###  a - Try and else\n"
   ]
  },
  {
   "cell_type": "code",
   "execution_count": 1,
   "id": "4d47e3be-831e-4022-9bbb-193310ba4525",
   "metadata": {},
   "outputs": [
    {
     "name": "stdout",
     "output_type": "stream",
     "text": [
      "sum of a & b is 15\n",
      "checks the else block by addition 30\n"
     ]
    }
   ],
   "source": [
    "try:\n",
    "    a=5\n",
    "    b=a+10\n",
    "    print(\"sum of a & b is {}\".format(b))\n",
    "except TypeError as e:\n",
    "    print (e)\n",
    "else:\n",
    "    d=15+b\n",
    "    print(\"checks the else block by addition {}\".format(d))\n"
   ]
  },
  {
   "cell_type": "markdown",
   "id": "b0554c9e-4fe5-4f7c-a9bf-efef0c4d09b3",
   "metadata": {},
   "source": [
    "### b - Finally"
   ]
  },
  {
   "cell_type": "code",
   "execution_count": 2,
   "id": "a0e5b4cc-6e93-4009-9a61-e615a8095b7e",
   "metadata": {},
   "outputs": [
    {
     "name": "stdout",
     "output_type": "stream",
     "text": [
      "no matter what th final block will execute\n"
     ]
    },
    {
     "ename": "FileNotFoundError",
     "evalue": "[Errno 2] No such file or directory: 'exmpl.text'",
     "output_type": "error",
     "traceback": [
      "\u001b[0;31m---------------------------------------------------------------------------\u001b[0m",
      "\u001b[0;31mFileNotFoundError\u001b[0m                         Traceback (most recent call last)",
      "Cell \u001b[0;32mIn[2], line 2\u001b[0m\n\u001b[1;32m      1\u001b[0m \u001b[38;5;28;01mtry\u001b[39;00m:\n\u001b[0;32m----> 2\u001b[0m     file\u001b[38;5;241m=\u001b[39m\u001b[38;5;28;43mopen\u001b[39;49m\u001b[43m(\u001b[49m\u001b[38;5;124;43m\"\u001b[39;49m\u001b[38;5;124;43mexmpl.text\u001b[39;49m\u001b[38;5;124;43m\"\u001b[39;49m\u001b[43m,\u001b[49m\u001b[38;5;124;43m\"\u001b[39;49m\u001b[38;5;124;43mr\u001b[39;49m\u001b[38;5;124;43m\"\u001b[39;49m\u001b[43m)\u001b[49m\n\u001b[1;32m      3\u001b[0m     file\u001b[38;5;241m.\u001b[39mwrite(\u001b[38;5;124m\"\u001b[39m\u001b[38;5;124mthis is the try block\u001b[39m\u001b[38;5;124m\"\u001b[39m)\n\u001b[1;32m      4\u001b[0m     file\u001b[38;5;241m.\u001b[39mclose()\n",
      "File \u001b[0;32m/opt/conda/lib/python3.10/site-packages/IPython/core/interactiveshell.py:282\u001b[0m, in \u001b[0;36m_modified_open\u001b[0;34m(file, *args, **kwargs)\u001b[0m\n\u001b[1;32m    275\u001b[0m \u001b[38;5;28;01mif\u001b[39;00m file \u001b[38;5;129;01min\u001b[39;00m {\u001b[38;5;241m0\u001b[39m, \u001b[38;5;241m1\u001b[39m, \u001b[38;5;241m2\u001b[39m}:\n\u001b[1;32m    276\u001b[0m     \u001b[38;5;28;01mraise\u001b[39;00m \u001b[38;5;167;01mValueError\u001b[39;00m(\n\u001b[1;32m    277\u001b[0m         \u001b[38;5;124mf\u001b[39m\u001b[38;5;124m\"\u001b[39m\u001b[38;5;124mIPython won\u001b[39m\u001b[38;5;124m'\u001b[39m\u001b[38;5;124mt let you open fd=\u001b[39m\u001b[38;5;132;01m{\u001b[39;00mfile\u001b[38;5;132;01m}\u001b[39;00m\u001b[38;5;124m by default \u001b[39m\u001b[38;5;124m\"\u001b[39m\n\u001b[1;32m    278\u001b[0m         \u001b[38;5;124m\"\u001b[39m\u001b[38;5;124mas it is likely to crash IPython. If you know what you are doing, \u001b[39m\u001b[38;5;124m\"\u001b[39m\n\u001b[1;32m    279\u001b[0m         \u001b[38;5;124m\"\u001b[39m\u001b[38;5;124myou can use builtins\u001b[39m\u001b[38;5;124m'\u001b[39m\u001b[38;5;124m open.\u001b[39m\u001b[38;5;124m\"\u001b[39m\n\u001b[1;32m    280\u001b[0m     )\n\u001b[0;32m--> 282\u001b[0m \u001b[38;5;28;01mreturn\u001b[39;00m \u001b[43mio_open\u001b[49m\u001b[43m(\u001b[49m\u001b[43mfile\u001b[49m\u001b[43m,\u001b[49m\u001b[43m \u001b[49m\u001b[38;5;241;43m*\u001b[39;49m\u001b[43margs\u001b[49m\u001b[43m,\u001b[49m\u001b[43m \u001b[49m\u001b[38;5;241;43m*\u001b[39;49m\u001b[38;5;241;43m*\u001b[39;49m\u001b[43mkwargs\u001b[49m\u001b[43m)\u001b[49m\n",
      "\u001b[0;31mFileNotFoundError\u001b[0m: [Errno 2] No such file or directory: 'exmpl.text'"
     ]
    }
   ],
   "source": [
    "try:\n",
    "    file=open(\"exmpl.text\",\"r\")\n",
    "    file.write(\"this is the try block\")\n",
    "    file.close()\n",
    "finally:\n",
    "    print(\"no matter what th final block will execute\")"
   ]
  },
  {
   "cell_type": "code",
   "execution_count": null,
   "id": "ab73bba5-a98f-4926-819c-c7b307f548de",
   "metadata": {},
   "outputs": [],
   "source": []
  },
  {
   "cell_type": "markdown",
   "id": "9edd0b77-2c11-4793-a840-7ec19403401f",
   "metadata": {},
   "source": [
    "### c - Raise"
   ]
  },
  {
   "cell_type": "code",
   "execution_count": 4,
   "id": "8a77c9a8-93ef-4dff-9224-77d94cd97a02",
   "metadata": {},
   "outputs": [
    {
     "ename": "Exception",
     "evalue": "The number shouldn't be an odd integer",
     "output_type": "error",
     "traceback": [
      "\u001b[0;31m---------------------------------------------------------------------------\u001b[0m",
      "\u001b[0;31mException\u001b[0m                                 Traceback (most recent call last)",
      "Cell \u001b[0;32mIn[4], line 4\u001b[0m\n\u001b[1;32m      1\u001b[0m a \u001b[38;5;241m=\u001b[39m \u001b[38;5;241m5\u001b[39m\n\u001b[1;32m      3\u001b[0m \u001b[38;5;28;01mif\u001b[39;00m a \u001b[38;5;241m%\u001b[39m \u001b[38;5;241m2\u001b[39m \u001b[38;5;241m!=\u001b[39m \u001b[38;5;241m0\u001b[39m: \n\u001b[0;32m----> 4\u001b[0m     \u001b[38;5;28;01mraise\u001b[39;00m \u001b[38;5;167;01mException\u001b[39;00m(\u001b[38;5;124m\"\u001b[39m\u001b[38;5;124mThe number shouldn\u001b[39m\u001b[38;5;124m'\u001b[39m\u001b[38;5;124mt be an odd integer\u001b[39m\u001b[38;5;124m\"\u001b[39m)\n",
      "\u001b[0;31mException\u001b[0m: The number shouldn't be an odd integer"
     ]
    }
   ],
   "source": [
    "a = 5\n",
    "  \n",
    "if a % 2 != 0: \n",
    "    raise Exception(\"The number shouldn't be an odd integer\")"
   ]
  },
  {
   "cell_type": "code",
   "execution_count": null,
   "id": "92a8707c-d570-4e98-85e1-d29921f32baa",
   "metadata": {},
   "outputs": [],
   "source": []
  },
  {
   "cell_type": "code",
   "execution_count": null,
   "id": "fbe74494-9daa-4ef0-b351-bbdc7922f635",
   "metadata": {},
   "outputs": [],
   "source": []
  },
  {
   "cell_type": "markdown",
   "id": "de481411-09df-4d78-a4aa-bfdb4ddcc1b0",
   "metadata": {},
   "source": [
    "# Q5 What are custom exceptions in python? why do we need custom exceptions ? Explain with an example"
   ]
  },
  {
   "cell_type": "markdown",
   "id": "9f45ac55-c22d-4adc-af8b-509734ea5c5c",
   "metadata": {},
   "source": [
    "### When we create our own exception to handle exceptions it is called custom exception. Custom exceptions are created by subclassing the built-in Exception class or any of its subclasses. It is used when the built-in exceptions are not sufficient to handle a particular scenario in a program.\n",
    "\n",
    "### we need them because having custom exceptions - tailored to your specific use cases and that you can raise and catch in specific circumstances - can make your code much more readable and robust, and reduce the amount of code you write later to try and figure out what exactly went wrong."
   ]
  },
  {
   "cell_type": "code",
   "execution_count": 5,
   "id": "294610c8-ca44-4dec-94bf-5a7496dd2adc",
   "metadata": {},
   "outputs": [
    {
     "name": "stdout",
     "output_type": "stream",
     "text": [
      "This is a custom exception\n"
     ]
    }
   ],
   "source": [
    "class CustomException(Exception):\n",
    "    def __init__(self, message=\"This is a custom exception\"):\n",
    "        super().__init__(message)\n",
    "\n",
    "try:\n",
    "    raise CustomException()\n",
    "except CustomException as e:\n",
    "    print(e)"
   ]
  },
  {
   "cell_type": "code",
   "execution_count": null,
   "id": "6c425c19-4a93-4384-a78a-5aa9d0f6532d",
   "metadata": {},
   "outputs": [],
   "source": []
  },
  {
   "cell_type": "markdown",
   "id": "2dbe9c46-b6ac-4ce8-9a28-ae37a2c8ff84",
   "metadata": {},
   "source": [
    "# Q6. Create a custom exception class. Use this class to handle an exception."
   ]
  },
  {
   "cell_type": "code",
   "execution_count": null,
   "id": "78216c13-b6ba-4e73-b31f-9bb1ec116cb6",
   "metadata": {},
   "outputs": [],
   "source": []
  },
  {
   "cell_type": "markdown",
   "id": "7b3c95d6-2dc3-47ef-a454-690c7a346a88",
   "metadata": {},
   "source": [
    "### The code below is to find the average of the numbers from a list. where the all numbers in the list should be positive.\n",
    "### If any negative integer is entered, the list should be blank.\n",
    "### the code here uses uses exception handeling when we have an empty list"
   ]
  },
  {
   "cell_type": "code",
   "execution_count": 6,
   "id": "c2850dc6-2864-4eb8-b6fa-91cc8298ba0a",
   "metadata": {},
   "outputs": [
    {
     "name": "stdin",
     "output_type": "stream",
     "text": [
      "enter the number which is to be added to the list 1\n",
      "enter the number which is to be added to the list 2\n",
      "enter the number which is to be added to the list 3\n",
      "enter the number which is to be added to the list -3\n"
     ]
    },
    {
     "name": "stdout",
     "output_type": "stream",
     "text": [
      "Error: Cannot calculate average of an empty list.\n"
     ]
    }
   ],
   "source": [
    "# custom exception \n",
    "class EmptyListError(Exception):\n",
    "    pass\n",
    "\n",
    "\n",
    "# user defined function to calculate average of the numbers in a list\n",
    "\n",
    "def calculate_average(numbers):\n",
    "    if len(numbers) == 0:\n",
    "        raise EmptyListError(\"Cannot calculate average of an empty list.\")\n",
    "    else: \n",
    "        s=sum(numbers)\n",
    "        l=len(numbers)\n",
    "        avg=s/l\n",
    "        print (\"the average of the numbers in the list is {}\".format(avg))\n",
    "\n",
    "# main body of the code\n",
    "try:\n",
    "    list_of_numbers=[]\n",
    "    while (True):\n",
    "        number=int(input(\"enter the number which is to be added to the list\"))\n",
    "        if (number >= 0):\n",
    "            list_of_numbers.append(number)\n",
    "        else:\n",
    "            list_of_numbers.clear()\n",
    "            break\n",
    "              \n",
    "    \n",
    "    calculate_average(list_of_numbers)  # Passing an empty list as input\n",
    "\n",
    "except EmptyListError as e:\n",
    "    print(\"Error:\", str(e))"
   ]
  },
  {
   "cell_type": "code",
   "execution_count": null,
   "id": "bd1f40ba-5b53-4654-b0da-90e92de32feb",
   "metadata": {},
   "outputs": [],
   "source": []
  }
 ],
 "metadata": {
  "kernelspec": {
   "display_name": "Python 3 (ipykernel)",
   "language": "python",
   "name": "python3"
  },
  "language_info": {
   "codemirror_mode": {
    "name": "ipython",
    "version": 3
   },
   "file_extension": ".py",
   "mimetype": "text/x-python",
   "name": "python",
   "nbconvert_exporter": "python",
   "pygments_lexer": "ipython3",
   "version": "3.10.8"
  }
 },
 "nbformat": 4,
 "nbformat_minor": 5
}
