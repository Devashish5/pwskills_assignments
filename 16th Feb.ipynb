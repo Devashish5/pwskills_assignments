{
 "cells": [
  {
   "cell_type": "markdown",
   "id": "d3ed52f3-9b83-433e-acdc-3b65933b52e1",
   "metadata": {},
   "source": [
    "# Q1. What is a database? Differentiate between SQL and NoSQL databases"
   ]
  },
  {
   "cell_type": "markdown",
   "id": "fc75565e-1f12-4a41-a4dd-24e6496cfca8",
   "metadata": {},
   "source": [
    "### A database is an organized collection of structured information, or data, typically stored electronically in a computer system. The data in common databases is modeled in tables, making querying and processing efficient. Structured query language (SQL) is commonly used for data querying and writing.\n",
    "\n",
    "### differnces between SQL and NoSQl are as follows:\n",
    "### 1- SQL databases are relational, and NoSQL databases are non-relational.\n",
    "### 2- SQL databases use structured query language (SQL) and have a predefined schema. NoSQL databases have dynamic schemas for unstructured data.\n",
    "### 3- SQL databases are vertically scalable, while NoSQL databases are horizontally scalable.\n",
    "### 4- SQL databases are table-based, while NoSQL databases are document, key-value, graph, or wide-column stores.\n",
    "### 5- SQL databases are better for multi-row transactions, while NoSQL is better for unstructured data like documents or JSON."
   ]
  },
  {
   "cell_type": "code",
   "execution_count": null,
   "id": "8a4f11a7-855e-488a-8955-acc7b1b7523c",
   "metadata": {},
   "outputs": [],
   "source": []
  },
  {
   "cell_type": "markdown",
   "id": "86c4c2e7-9cea-4fc9-8f3f-1b88d29b5bd7",
   "metadata": {},
   "source": [
    "# Q2. What is DDL? Explain why CREATE, DROP, ALTER, and TRUNCATE are used with an example"
   ]
  },
  {
   "cell_type": "markdown",
   "id": "a0683792-93a8-417f-a47a-e84d681a89f0",
   "metadata": {},
   "source": [
    "### DDL or Data Definition Language actually consists of the SQL commands that can be used to define the database schema. It simply deals with descriptions of the database schema and is used to create and modify the structure of database objects in the database. DDL is a set of SQL commands used to create, modify, and delete database structures but not data\n",
    "\n",
    "### CREATE: This command is used to create the database or its objects (like table, index, function, views, store procedure, and triggers).\n",
    "### example - CREATE TABLE Customer(\n",
    "###               CustomerID INT PRIMARY KEY,\n",
    "###               CustomerName VARCHAR(50),\n",
    "###               LastName VARCHAR(50),\n",
    "###               Country VARCHAR(50),\n",
    "###               Age int(2),\n",
    "###               Phone int(10)\n",
    "###           );\n",
    "\n",
    "### DROP: This command is used to delete objects from the database.\n",
    "### example - DROP TABLE Customer\n",
    "\n",
    "### ALTER: This is used to alter the structure of the database.\n",
    "### example -  ALTER TABLE Customers\n",
    "###            ADD Email varchar(255);\n",
    "\n",
    "### TRUNCATE: This is used to remove all records from a table, including all spaces allocated for the records are removed.\n",
    "### example - TRUNCATE TABLE Customer"
   ]
  },
  {
   "cell_type": "code",
   "execution_count": null,
   "id": "8e039272-0d1e-4def-9dea-745e42d796f5",
   "metadata": {},
   "outputs": [],
   "source": []
  },
  {
   "cell_type": "markdown",
   "id": "0c25b230-ddbd-422d-ad34-712f71351c2b",
   "metadata": {},
   "source": [
    "# Q3 What is DML? Explain INSERT, UPDATE, and DELETE with an example"
   ]
  },
  {
   "cell_type": "markdown",
   "id": "7e7acf87-4f65-47d7-8ed8-0bb374d62780",
   "metadata": {},
   "source": [
    "### DML(Data Manipulation Language) is SQL commands that deal with the manipulation of data present in the database .It is the component of the SQL statement that controls access to data and to the database.\n",
    "\n",
    "### INSERT: It is used to insert data into a table.\n",
    "### example - INSERT INTO Student VALUES \n",
    "###           ('5','HARSH','WEST BENGAL',\n",
    "###           'XXXXXXXXXX','19');\n",
    "\n",
    "### UPDATE: It is used to update existing data within a table.\n",
    "### example - UPDATE Customer SET CustomerName = 'Nitin' WHERE Age = 22;\n",
    "\n",
    "### DELETE: It is used to delete records from a database table.\n",
    "### example - DELETE FROM GFG_Employees WHERE NAME = 'Rithvik';"
   ]
  },
  {
   "cell_type": "code",
   "execution_count": null,
   "id": "896e222f-0e1f-417f-bd36-63a72d579fd0",
   "metadata": {},
   "outputs": [],
   "source": []
  },
  {
   "cell_type": "markdown",
   "id": "3409f567-dce8-4552-a1a0-1752439281a2",
   "metadata": {},
   "source": [
    "# Q4. What is DQL? Explain SELECT with an example"
   ]
  },
  {
   "cell_type": "markdown",
   "id": "79dd6173-4d0d-4744-9b8e-8f8f7b6b18ef",
   "metadata": {},
   "source": [
    "### DQL or Data Query Language is a component of SQL statement that allows getting data from the database and imposing order upon it\n",
    "\n",
    "### SELECT - is used to retrieve data from the database.\n",
    "### example - SELECT CustomerName, LastName FROM Customer;"
   ]
  },
  {
   "cell_type": "code",
   "execution_count": null,
   "id": "9dd078e3-e882-40c1-8f57-3d4c2e3c94c9",
   "metadata": {},
   "outputs": [],
   "source": []
  },
  {
   "cell_type": "markdown",
   "id": "76f56580-80d2-4499-9a54-7b9ed537d10c",
   "metadata": {},
   "source": [
    "# Q5. Explain Primary Key and Foreign Key"
   ]
  },
  {
   "cell_type": "markdown",
   "id": "c4d9793e-7a3f-4c15-8622-7063a3df4471",
   "metadata": {},
   "source": [
    "### A primary key is used to ensure that data in the specific column is unique. A column cannot have NULL values. It is either an existing table column or a column that is specifically generated by the database according to a defined sequence.\n",
    "\n",
    "### A foreign key is a column or group of columns in a relational database table that provides a link between data in two tables. It is a column (or columns) that references a column (most often the primary key) of another table. "
   ]
  },
  {
   "cell_type": "code",
   "execution_count": null,
   "id": "38d552a7-8869-4625-b213-2b338f2aa6d7",
   "metadata": {},
   "outputs": [],
   "source": []
  },
  {
   "cell_type": "markdown",
   "id": "84b5343d-790f-4376-b014-84e705a716e5",
   "metadata": {},
   "source": [
    "# Q6. Write a python code to connect MySQL to python. Explain the cursor() and execute() method"
   ]
  },
  {
   "cell_type": "markdown",
   "id": "2c03b912-70e0-4f2a-9cb1-32aeb101765e",
   "metadata": {},
   "source": [
    "### cursor()- It is an object that is used to make the connection for executing SQL queries. It acts as middleware between SQLite database connection and SQL query. It is created after giving connection to SQLite database.\n",
    "\n",
    "### execute () - The execute () method helps us to execute the query and return records according to the query. "
   ]
  },
  {
   "cell_type": "code",
   "execution_count": null,
   "id": "e5ab5d93-8fb8-49aa-8dd7-5282e4413d61",
   "metadata": {},
   "outputs": [],
   "source": [
    "import mysql.connector\n",
    "# Creating connection object\n",
    "mydb = mysql.connector.connect(\n",
    "    host = \"localhost\",\n",
    "    user = \"yourusername\",\n",
    "    password = \"your_password\"\n",
    ")\n",
    "\n",
    "mydb.close()"
   ]
  },
  {
   "cell_type": "code",
   "execution_count": null,
   "id": "e078ce9d-9d02-45f3-b22f-ac98289fd52a",
   "metadata": {},
   "outputs": [],
   "source": []
  },
  {
   "cell_type": "markdown",
   "id": "979af995-ce7d-4459-9d73-060557e3aa89",
   "metadata": {},
   "source": [
    "# Q7. Give the order of execution of SQL clauses in an SQL query"
   ]
  },
  {
   "cell_type": "markdown",
   "id": "82b94a72-3f58-4e9b-ab0c-546584b568f0",
   "metadata": {},
   "source": [
    "### Order of execution in SQL query is :\n",
    "### 1- FROM/JOIN\n",
    "### 2- WHERE\n",
    "### 3- GROUP BY\n",
    "### 4- HAVING\n",
    "### 5- SELECT\n",
    "### 6- ORDER BY\n",
    "### 7- LIMIT/OFFSET\n"
   ]
  },
  {
   "cell_type": "code",
   "execution_count": null,
   "id": "dd1dad9c-49b5-4122-9718-c8e80e3459d5",
   "metadata": {},
   "outputs": [],
   "source": []
  }
 ],
 "metadata": {
  "kernelspec": {
   "display_name": "Python 3 (ipykernel)",
   "language": "python",
   "name": "python3"
  },
  "language_info": {
   "codemirror_mode": {
    "name": "ipython",
    "version": 3
   },
   "file_extension": ".py",
   "mimetype": "text/x-python",
   "name": "python",
   "nbconvert_exporter": "python",
   "pygments_lexer": "ipython3",
   "version": "3.10.8"
  }
 },
 "nbformat": 4,
 "nbformat_minor": 5
}
