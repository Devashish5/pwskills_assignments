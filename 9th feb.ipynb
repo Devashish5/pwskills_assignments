{
 "cells": [
  {
   "cell_type": "markdown",
   "id": "921100a0-7a09-4663-bc1b-1d1d83d88222",
   "metadata": {},
   "source": [
    "# Q1, Create a vehicle class with an init method having instance variables as name_of_vehicle, max_speed and  average_of_vehicle."
   ]
  },
  {
   "cell_type": "code",
   "execution_count": 1,
   "id": "4fe741c8-fb9a-4a88-93b1-93d01e21c43e",
   "metadata": {},
   "outputs": [
    {
     "name": "stdout",
     "output_type": "stream",
     "text": [
      "Maruti\n",
      "140\n",
      "16\n"
     ]
    }
   ],
   "source": [
    "class vehcile:\n",
    "    def __init__(self,name_of_vehicle,max_speed,average_of_vehicle):\n",
    "        self.name_of_vehicle=name_of_vehicle\n",
    "        self. max_speed = max_speed \n",
    "        self.average_of_vehicle=average_of_vehicle\n",
    "\n",
    "obj_vehcile=vehcile(\"Maruti\",140,16)\n",
    "\n",
    "print(obj_vehcile.name_of_vehicle)\n",
    "print(obj_vehcile.max_speed)\n",
    "print(obj_vehcile.average_of_vehicle)"
   ]
  },
  {
   "cell_type": "code",
   "execution_count": null,
   "id": "0959ee98-849b-4eb3-b8a2-2a1d2efdc7cd",
   "metadata": {},
   "outputs": [],
   "source": []
  },
  {
   "cell_type": "markdown",
   "id": "06f4366e-2f3e-4d73-a51f-8e606846fc5f",
   "metadata": {},
   "source": [
    "# Q2.  Create a child class car from the vehicle class created in Que 1, which will inherit the vehicle class. Create a method named seating_capacity which takes capacity as an argument and returns the name of the vehicle and its seating capacity."
   ]
  },
  {
   "cell_type": "code",
   "execution_count": 2,
   "id": "53567295-6c14-49d7-994f-e9efa109654f",
   "metadata": {},
   "outputs": [
    {
     "name": "stdout",
     "output_type": "stream",
     "text": [
      "Sedan Car has a seating capacity of 5 people.\n"
     ]
    }
   ],
   "source": [
    "class Vehicle:\n",
    "    def __init__(self, name_of_vehicle, max_speed, average_of_vehicle):\n",
    "        self.name_of_vehicle = name_of_vehicle\n",
    "        self.max_speed = max_speed\n",
    "        self.average_of_vehicle = average_of_vehicle\n",
    "\n",
    "class Car(Vehicle):\n",
    "    def __init__(self, name_of_vehicle, max_speed, average_of_vehicle):\n",
    "        super().__init__(name_of_vehicle, max_speed, average_of_vehicle)\n",
    "\n",
    "    def seating_capacity(self, capacity):\n",
    "        return f\"{self.name_of_vehicle} has a seating capacity of {capacity} people.\"\n",
    "\n",
    "# Creating an instance of the Car class\n",
    "car_instance = Car(\"Sedan Car\", 180, 25)\n",
    "\n",
    "# Calling the seating_capacity method\n",
    "capacity_result = car_instance.seating_capacity(5)\n",
    "print(capacity_result)"
   ]
  },
  {
   "cell_type": "code",
   "execution_count": null,
   "id": "3eef7869-d9a5-4c65-bdb0-4648bd50525c",
   "metadata": {},
   "outputs": [],
   "source": []
  },
  {
   "cell_type": "code",
   "execution_count": null,
   "id": "6bd6d8ee-904c-471f-bc20-ea0e26598198",
   "metadata": {},
   "outputs": [],
   "source": []
  },
  {
   "cell_type": "markdown",
   "id": "8eec0c3b-6354-4edd-994c-8b806b8be306",
   "metadata": {},
   "source": [
    "# Q3. What is multiple inheritance? Write a python code to demonstrate multiple inheritance."
   ]
  },
  {
   "cell_type": "markdown",
   "id": "ab83dc74-b8b9-477e-bb16-2087ced60144",
   "metadata": {},
   "source": [
    "### when a single child class is inherited from multiple parent class it is called multiple inheritance"
   ]
  },
  {
   "cell_type": "code",
   "execution_count": 4,
   "id": "26d67119-cbb3-49bd-a8c7-3e3fe2522ed4",
   "metadata": {},
   "outputs": [
    {
     "name": "stdout",
     "output_type": "stream",
     "text": [
      "hello parent1\n",
      "hello parent2\n",
      "hello child\n"
     ]
    }
   ],
   "source": [
    "class parent1:\n",
    "    def func1(self):\n",
    "        print(\"hello parent1\")\n",
    "        \n",
    "class parent2:\n",
    "    def func2(self):\n",
    "        print(\"hello parent2\")\n",
    "        \n",
    "class child(parent1,parent2):\n",
    "    def func3(self):\n",
    "        print(\"hello child\")\n",
    "        \n",
    "test=child()\n",
    "test.func1()\n",
    "test.func2()\n",
    "test.func3()    "
   ]
  },
  {
   "cell_type": "code",
   "execution_count": null,
   "id": "4c2166d8-2683-4c59-ae54-fb5362ad66c4",
   "metadata": {},
   "outputs": [],
   "source": []
  },
  {
   "cell_type": "markdown",
   "id": "8714a1ca-890f-4188-9a27-7d10bf4d0349",
   "metadata": {},
   "source": [
    "# Q4. What are getter and setter in python? Create a class and create a getter and a setter method in this class."
   ]
  },
  {
   "cell_type": "markdown",
   "id": "69f9fcb9-2562-4dad-b61f-cbe7da0e8e27",
   "metadata": {},
   "source": [
    "### In Python, getters and setters are methods used to control access to attributes (instance variables) of a class. They provide a way to encapsulate the reading and writing of attribute values, allowing you to add extra logic or validation when getting or setting the values. Getters are used to retrieve the values of attributes, and setters are used to modify or update the values of attributes."
   ]
  },
  {
   "cell_type": "code",
   "execution_count": 1,
   "id": "c64740aa-72ed-4b05-8975-2cb0d3251204",
   "metadata": {},
   "outputs": [
    {
     "name": "stdout",
     "output_type": "stream",
     "text": [
      "Alice\n",
      "Bob\n",
      "30\n",
      "Age cannot be negative.\n",
      "30\n",
      "35\n"
     ]
    }
   ],
   "source": [
    "class Person:\n",
    "    def __init__(self, name, age):\n",
    "        self._name = name  # Private attribute\n",
    "        self._age = age    # Private attribute\n",
    "\n",
    "    @property\n",
    "    def name(self):\n",
    "        return self._name\n",
    "\n",
    "    @name.setter\n",
    "    def name(self, new_name):\n",
    "        self._name = new_name\n",
    "\n",
    "    @property\n",
    "    def age(self):\n",
    "        return self._age\n",
    "\n",
    "    @age.setter\n",
    "    def age(self, new_age):\n",
    "        if new_age >= 0:\n",
    "            self._age = new_age\n",
    "        else:\n",
    "            print(\"Age cannot be negative.\")\n",
    "\n",
    "# Creating an instance of the Person class\n",
    "person = Person(\"Alice\", 30)\n",
    "\n",
    "# Using the getter and setter methods\n",
    "print(person.name)  # Using the getter\n",
    "person.name = \"Bob\"  # Using the setter\n",
    "print(person.name)  # Using the getter\n",
    "\n",
    "print(person.age)   # Using the getter\n",
    "person.age = -5     # Trying to set a negative age\n",
    "print(person.age)   # Age should remain unchanged\n",
    "person.age = 35     # Setting a positive age\n",
    "print(person.age)   # Using the getter\n"
   ]
  },
  {
   "cell_type": "code",
   "execution_count": null,
   "id": "4f0cb177-0068-4acf-bf0d-cb8ca1355c06",
   "metadata": {},
   "outputs": [],
   "source": []
  },
  {
   "cell_type": "code",
   "execution_count": null,
   "id": "bcdf603f-8ca3-4a95-99e0-299192d0daa8",
   "metadata": {},
   "outputs": [],
   "source": []
  },
  {
   "cell_type": "markdown",
   "id": "01321604-8e5e-4759-9200-c82be503f270",
   "metadata": {},
   "source": [
    "# Q5.What is method overriding in python? Write a python code to demonstrate method overriding."
   ]
  },
  {
   "cell_type": "markdown",
   "id": "f89ae3fd-fcd7-4970-b02e-56f64bc9807e",
   "metadata": {},
   "source": [
    "### Method overriding is an ability of any object-oriented programming language that allows a subclass or child class to provide a specific implementation of a method that is already provided by one of its super-classes or parent classes. When a method in a subclass has the same name, same parameters or signature and same return type(or sub-type) as a method in its super-class, then the method in the subclass is said to override the method in the super-class."
   ]
  },
  {
   "cell_type": "code",
   "execution_count": 2,
   "id": "fe965abf-4d08-4d4f-bd2a-d2411a667c42",
   "metadata": {},
   "outputs": [
    {
     "name": "stdout",
     "output_type": "stream",
     "text": [
      "Basic Addition Result: 8\n",
      "Advanced Addition Result: devashish\n"
     ]
    }
   ],
   "source": [
    "class MathOperation:\n",
    "    def perform_operation(self, a, b):\n",
    "        result = a + b\n",
    "        return result\n",
    "\n",
    "class AdvancedMathOperation(MathOperation):\n",
    "    def perform_operation(self, a, b):\n",
    "        result = a + b \n",
    "        return result\n",
    "\n",
    "# Creating instances of the classes\n",
    "basic_math = MathOperation()\n",
    "advanced_math = AdvancedMathOperation()\n",
    "\n",
    "# Calling the overridden methods\n",
    "basic_result = basic_math.perform_operation(5, 3)\n",
    "print(\"Basic Addition Result:\", basic_result)  \n",
    "\n",
    "advanced_result = advanced_math.perform_operation('dev','ashish')\n",
    "print(\"Advanced Addition Result:\", advanced_result)  "
   ]
  },
  {
   "cell_type": "code",
   "execution_count": null,
   "id": "2d14973d-71b6-4491-8d93-75a65a8e70b7",
   "metadata": {},
   "outputs": [],
   "source": []
  }
 ],
 "metadata": {
  "kernelspec": {
   "display_name": "Python 3 (ipykernel)",
   "language": "python",
   "name": "python3"
  },
  "language_info": {
   "codemirror_mode": {
    "name": "ipython",
    "version": 3
   },
   "file_extension": ".py",
   "mimetype": "text/x-python",
   "name": "python",
   "nbconvert_exporter": "python",
   "pygments_lexer": "ipython3",
   "version": "3.10.8"
  }
 },
 "nbformat": 4,
 "nbformat_minor": 5
}
