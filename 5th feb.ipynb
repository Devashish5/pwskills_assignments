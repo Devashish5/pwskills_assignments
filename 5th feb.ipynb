{
 "cells": [
  {
   "cell_type": "markdown",
   "id": "b1f91218-3a02-4f62-a610-96d2c8f349e4",
   "metadata": {},
   "source": [
    "# Q1. Explain Class and Object with respect to Object-Oriented Programming. Give a suitable example"
   ]
  },
  {
   "cell_type": "markdown",
   "id": "5ffb7af2-34af-4142-984c-c6e6bd8f8b85",
   "metadata": {
    "tags": []
   },
   "source": [
    "### Class is a logical entity that contains some methods and attribute which are bundled together. It is a prototype for creating objects\n",
    "### The object is an entity that has a state and behavior associated with it. It may be any real-world object like a mouse, keyboard, chair, table, pen, etc. Integers, strings,floating-point numbers, even arrays, and dictionaries, are all objects"
   ]
  },
  {
   "cell_type": "code",
   "execution_count": 9,
   "id": "cb806cba-082d-453d-9d86-41f912a24303",
   "metadata": {},
   "outputs": [],
   "source": [
    "# eaxmple of class\n",
    "class cars:\n",
    "    name=\"\"\n",
    "    build_year=0\n",
    "    model_name=\"\""
   ]
  },
  {
   "cell_type": "code",
   "execution_count": 3,
   "id": "b5c83810-61c4-4244-a462-fc95e02f6ae0",
   "metadata": {},
   "outputs": [],
   "source": [
    "# example of object\n",
    "c1 = cars()\n",
    "c1.name=\"Suzuki\"\n",
    "c1.build_year=1984\n",
    "c1.model_name=\"Maruti800\""
   ]
  },
  {
   "cell_type": "code",
   "execution_count": 4,
   "id": "97651c82-0526-4cda-9bd1-c4d5bdc6a2ee",
   "metadata": {},
   "outputs": [
    {
     "name": "stdout",
     "output_type": "stream",
     "text": [
      "Suzuki\n",
      "1984\n"
     ]
    }
   ],
   "source": [
    "print(c1.name)\n",
    "print(c1.build_year)"
   ]
  },
  {
   "cell_type": "code",
   "execution_count": null,
   "id": "aaf5f301-dcce-48df-91f0-095574b0a5cb",
   "metadata": {},
   "outputs": [],
   "source": []
  },
  {
   "cell_type": "markdown",
   "id": "53278e6a-e56e-4a4e-95ef-d5d304120da7",
   "metadata": {},
   "source": [
    "# Q2. Name the four pillars of OOPs"
   ]
  },
  {
   "cell_type": "markdown",
   "id": "456ef600-d4ab-464d-991d-dac149d7f8b8",
   "metadata": {},
   "source": [
    "### 1 abstraction\n",
    "### 2 inheritance\n",
    "### 3 polymorphism\n",
    "### 4 encapsulation"
   ]
  },
  {
   "cell_type": "code",
   "execution_count": null,
   "id": "fae7a63d-d128-4dde-9d45-82f1a95a1b08",
   "metadata": {},
   "outputs": [],
   "source": []
  },
  {
   "cell_type": "markdown",
   "id": "bbd84242-cfbd-4993-9e1c-f0cd8d342525",
   "metadata": {},
   "source": [
    "# Q3. Explain why the __init__() function is used. Give a suitable example."
   ]
  },
  {
   "cell_type": "markdown",
   "id": "f665c411-fa62-4a1e-a95d-05e1c5a62d33",
   "metadata": {},
   "source": [
    "### every time and object is created we call the init() method to initialize or assign value to the data members of the class"
   ]
  },
  {
   "cell_type": "code",
   "execution_count": 5,
   "id": "293a76d1-1ddb-4523-a711-b22d44107f5d",
   "metadata": {},
   "outputs": [
    {
     "name": "stdout",
     "output_type": "stream",
     "text": [
      "No. of Legs: 6\n",
      "No. of Wings 2\n"
     ]
    }
   ],
   "source": [
    "class Insects:\n",
    "    def __init__(self, legs, wings):\n",
    "        self.legs1 = legs\n",
    "        self.wings1 = wings\n",
    " \n",
    "    def looks(self):\n",
    "        return (\"No. of Legs: \" + self.legs1 + \"\\nNo. of Wings \" + self.wings1)\n",
    " \n",
    "I = Insects('6', '2')\n",
    "print(I.looks())"
   ]
  },
  {
   "cell_type": "code",
   "execution_count": null,
   "id": "93ef449d-1d89-4c1c-a948-7eb97f81623d",
   "metadata": {},
   "outputs": [],
   "source": []
  },
  {
   "cell_type": "code",
   "execution_count": null,
   "id": "22a2505f-f2c2-4b3d-8ec7-3a6a4d8c0717",
   "metadata": {},
   "outputs": [],
   "source": []
  },
  {
   "cell_type": "markdown",
   "id": "f275de13-fa81-4762-855e-6c99916af3ca",
   "metadata": {},
   "source": [
    "# Q4. Why self is used in OOPs?"
   ]
  },
  {
   "cell_type": "markdown",
   "id": "e98138ef-a698-4c60-9117-785ffd54c400",
   "metadata": {},
   "source": [
    "### Self is a reference to current instance of the class . It is created and passed automatically to the init() method when an object is created"
   ]
  },
  {
   "cell_type": "code",
   "execution_count": null,
   "id": "5f125cbe-02c0-4afa-b909-cb318a6ea2fd",
   "metadata": {},
   "outputs": [],
   "source": []
  },
  {
   "cell_type": "markdown",
   "id": "d30c3694-5dfa-40f5-8ac5-7367c4b9cbcf",
   "metadata": {},
   "source": [
    "# Q5. What is inheritance? Give an example for each type of inheritance."
   ]
  },
  {
   "cell_type": "markdown",
   "id": "0b3700d0-b6d9-4186-a24a-fc055aec8d4f",
   "metadata": {},
   "source": [
    "### Inheritance is on the 4 pillars of oops in python. It is the capability of one class being derived from another class and inherite the attributes of the orignal class "
   ]
  },
  {
   "cell_type": "code",
   "execution_count": 7,
   "id": "f46e8de8-7b2d-49e1-b57d-6387e23c09c6",
   "metadata": {},
   "outputs": [],
   "source": [
    "# creation of parent class\n",
    "class Parent:\n",
    "  def f1(self):\n",
    "    print(\"Function of parent class.\")\n",
    "    \n",
    "# creation of child class\n",
    "class Child(Parent):\n",
    "  def f4(self):\n",
    "    print(\"Function of child class.\")"
   ]
  },
  {
   "cell_type": "code",
   "execution_count": 8,
   "id": "2f3e0ef6-b0f4-4b90-8396-cd4702703006",
   "metadata": {},
   "outputs": [
    {
     "name": "stdout",
     "output_type": "stream",
     "text": [
      "Function of parent class.\n",
      "Function of child class.\n"
     ]
    }
   ],
   "source": [
    "# instance of child being created \n",
    "object_1 = Child()\n",
    "# accessing function of parent class\n",
    "object_1.f1()\n",
    "# accessing function of child class\n",
    "object_1.f4()"
   ]
  },
  {
   "cell_type": "code",
   "execution_count": null,
   "id": "7e72142b-654f-4332-bc83-5180d43744fb",
   "metadata": {},
   "outputs": [],
   "source": []
  }
 ],
 "metadata": {
  "kernelspec": {
   "display_name": "Python 3 (ipykernel)",
   "language": "python",
   "name": "python3"
  },
  "language_info": {
   "codemirror_mode": {
    "name": "ipython",
    "version": 3
   },
   "file_extension": ".py",
   "mimetype": "text/x-python",
   "name": "python",
   "nbconvert_exporter": "python",
   "pygments_lexer": "ipython3",
   "version": "3.10.8"
  }
 },
 "nbformat": 4,
 "nbformat_minor": 5
}
