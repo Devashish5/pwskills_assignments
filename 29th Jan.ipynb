{
 "cells": [
  {
   "cell_type": "markdown",
   "id": "e9448310-cced-4730-a760-4508cbc882be",
   "metadata": {},
   "source": [
    "# Q1 Who developed python programming language ?\n",
    "### Python was created by Guido van Rossum"
   ]
  },
  {
   "cell_type": "code",
   "execution_count": null,
   "id": "d8c5e88b-d1c8-4dd3-8f87-705618df9209",
   "metadata": {},
   "outputs": [],
   "source": []
  },
  {
   "cell_type": "markdown",
   "id": "fd86bc39-e1d2-451d-a498-25ea2e236616",
   "metadata": {},
   "source": [
    "# Q2 Which type of programming does python support ?\n",
    "### python supports structured programming along with oops"
   ]
  },
  {
   "cell_type": "code",
   "execution_count": null,
   "id": "27ce252d-fb00-454d-8f7e-0e841d8712d7",
   "metadata": {},
   "outputs": [],
   "source": []
  },
  {
   "cell_type": "markdown",
   "id": "ebb916aa-4094-488c-8bab-4ef7e78c5b18",
   "metadata": {},
   "source": [
    "# Q3 is python case sensitive when dealing with identifiers ?\n",
    "### yes"
   ]
  },
  {
   "cell_type": "code",
   "execution_count": null,
   "id": "b957ff1d-909d-49be-876b-8891b6a82034",
   "metadata": {},
   "outputs": [],
   "source": []
  },
  {
   "cell_type": "markdown",
   "id": "d4737535-eed7-46d7-aa34-799752d45dd3",
   "metadata": {},
   "source": [
    "# Q4 What is the correct extension of a python file ?\n",
    "### .py"
   ]
  },
  {
   "cell_type": "code",
   "execution_count": null,
   "id": "015185cd-ce89-477a-b94c-5c3b6c0d5a48",
   "metadata": {},
   "outputs": [],
   "source": []
  },
  {
   "cell_type": "markdown",
   "id": "9341f475-dde0-401c-b085-589a6550ccdb",
   "metadata": {},
   "source": [
    "# Q5 is python code compiled or interpreted ?\n",
    "### Python is an interpreted language. At runtime an interpreter processes the code and executes it."
   ]
  },
  {
   "cell_type": "code",
   "execution_count": null,
   "id": "9e88134d-b77c-4cde-9601-5c0780ac818e",
   "metadata": {},
   "outputs": [],
   "source": []
  },
  {
   "cell_type": "markdown",
   "id": "73e25efc-589c-4f6f-a7d8-35fe7364d27d",
   "metadata": {},
   "source": [
    "# Q6 name a few blocks of code used to define in python language\n",
    "\n",
    "### A Python program is constructed from code blocks. A block is a piece of Python program text that is executed as a unit. The following are blocks: a module, a function body, and a class definition."
   ]
  },
  {
   "cell_type": "code",
   "execution_count": null,
   "id": "2b9a47ba-7509-460c-bcb2-796731e360b7",
   "metadata": {},
   "outputs": [],
   "source": []
  },
  {
   "cell_type": "markdown",
   "id": "791a24bb-14f4-4334-b1dd-3d8732c36bad",
   "metadata": {},
   "source": [
    "# Q7 State a character used to give single line comments in python \n",
    "### # is used to give single line commenbt in python"
   ]
  },
  {
   "cell_type": "code",
   "execution_count": null,
   "id": "a1eefa86-dec3-469e-b905-9e5d4481fb7f",
   "metadata": {},
   "outputs": [],
   "source": []
  },
  {
   "cell_type": "markdown",
   "id": "953032d8-3926-481f-a613-5468eddf65ae",
   "metadata": {},
   "source": [
    "# Q8 Mention functions which can help us find the version pf pyhton we are currently working on ?\n",
    "### sys.version"
   ]
  },
  {
   "cell_type": "code",
   "execution_count": null,
   "id": "112047c5-3716-4fe6-afc8-a5b0b7a52ea0",
   "metadata": {},
   "outputs": [],
   "source": []
  },
  {
   "cell_type": "markdown",
   "id": "ce9e667c-9aee-45de-b090-d81428955fd0",
   "metadata": {},
   "source": [
    "# Q9 python supports creation of anonymous function at runtime using a constructor called\n",
    "### lambda"
   ]
  },
  {
   "cell_type": "code",
   "execution_count": null,
   "id": "c3d7c365-fc7a-4a3d-8266-90edf8e39dfc",
   "metadata": {},
   "outputs": [],
   "source": []
  },
  {
   "cell_type": "markdown",
   "id": "5105c33e-30ac-4514-a836-f9fb6468a2a8",
   "metadata": {},
   "source": [
    "# Q10 what does PIP stand in python ?\n",
    "### PIP is a recursive acronym for “Preferred Installer Program” . It is a package-management system written in Python and is used to install and manage software packages."
   ]
  },
  {
   "cell_type": "code",
   "execution_count": null,
   "id": "99bfb212-f14b-4217-b864-46f1f0af083d",
   "metadata": {},
   "outputs": [],
   "source": []
  },
  {
   "cell_type": "markdown",
   "id": "15196296-585d-477c-98a7-f5b1752608f2",
   "metadata": {},
   "source": [
    "# Q11 Mention a few built in functions in python.\n",
    "### Few built in function are : len(), list(),next(), iter()"
   ]
  },
  {
   "cell_type": "code",
   "execution_count": null,
   "id": "36887efb-72af-4f59-baaf-594e8ad6a6d3",
   "metadata": {},
   "outputs": [],
   "source": []
  },
  {
   "cell_type": "markdown",
   "id": "b13bc18b-da1b-4f59-a5a9-3c13dcb12cb4",
   "metadata": {},
   "source": [
    "# Q12 what is the maximum possible length of an identifier in python?\n",
    "### An identifier can have a maximum length of 79 characters in Python"
   ]
  },
  {
   "cell_type": "code",
   "execution_count": null,
   "id": "b9d596cc-c880-4992-82ad-1b4f0a8bf39a",
   "metadata": {},
   "outputs": [],
   "source": []
  },
  {
   "cell_type": "markdown",
   "id": "c2c560fc-2e8a-4845-aecb-2ea9bd552fab",
   "metadata": {},
   "source": [
    "# Q13 What are the benifits of python ?\n",
    "\n",
    "### few benitits of python languages are as foloows:\n",
    "### Presence of third-party modules \n",
    "### Extensive support libraries(NumPy for numerical calculations, Pandas for data analytics, etc.) \n",
    "### Open source and large active community base \n",
    "### Versatile, Easy to read, learn and write\n",
    "### User-friendly data structures \n",
    "### High-level language \n",
    "### Dynamically typed language(No need to mention data type based on the value assigned, it takes data type) Object-Oriented and Procedural  Programming language"
   ]
  },
  {
   "cell_type": "code",
   "execution_count": null,
   "id": "8305b181-ec36-41e4-8063-fc1e4e9888d7",
   "metadata": {},
   "outputs": [],
   "source": []
  },
  {
   "cell_type": "code",
   "execution_count": null,
   "id": "020296d8-1c3b-4717-848c-717803c5d22d",
   "metadata": {},
   "outputs": [],
   "source": []
  },
  {
   "cell_type": "markdown",
   "id": "b71ffd6b-8b9b-4ac0-bcf6-2ec6febf200f",
   "metadata": {},
   "source": [
    "# Q14 How is memory managed in python ?\n",
    "### There are two parts of memory:stack memory & heap memory\n",
    "### The methods/method calls and the references are stored in stack memory\n",
    "### all the values objects are stored in a private heap."
   ]
  },
  {
   "cell_type": "code",
   "execution_count": null,
   "id": "8448a9aa-a9ab-4428-a5e9-5645820c8ae3",
   "metadata": {},
   "outputs": [],
   "source": []
  },
  {
   "cell_type": "markdown",
   "id": "afd8d8cd-bea2-439a-8f90-86ae90eb262f",
   "metadata": {},
   "source": [
    "# Q15 How to install python on windows and set path variables ?"
   ]
  },
  {
   "cell_type": "markdown",
   "id": "03e549c2-5874-4205-9b20-b79e5cd491b0",
   "metadata": {},
   "source": [
    "### 1- Go on Python.org at the section where you can download the windows executables\n",
    "### 2- then checking the box to Add Python to PATH Finish the installation, and you should be good to go\n",
    "\n",
    "### Below are the steps we must take to add python to our PATH variable.\n",
    "\n",
    "### 1- First, we must find the directory where we installed Python. A typical installation would have the following path, C:\\Users\\MyUserName\\AppData\\Local\\Programs\\Python\\Python310\n",
    "\n",
    "### 2- Now, we will need to add this to the PATH variable, we right click on \"This PC\" and go to \"Properties\".\n",
    "\n",
    "### 3- Then, we click on the \"Advanced system settings\" in the menu on the left.going\n",
    "\n",
    "### 4- In the bottom right, we can see a button labeled \"Environment Variables\". We will click on it to open another window to edit these variables.\n",
    "\n",
    "### 5- Now, we select the \"Path variable\" in the \"System variables\" section and click \"Edit\". The next screen will show all the directories currently part of the PATH variable.\n",
    "\n",
    "### 6- Another window opens up where we can see all the paths for the currently configured system variables. To add a new path for our Python program, we will click on the \"New\" button on the right side and paste the path in Step 1\n",
    "\n",
    "### 7- We have successfully added the path for our Python program to our system's environment variables. The best practice is to restart the system afterward for the change to occur.\n",
    "\n",
    "### 8- Now, we can verify if the PATH variable was configured correctly by opening up the terminal and entering the command python --version."
   ]
  },
  {
   "cell_type": "code",
   "execution_count": null,
   "id": "e2206b53-57d2-45c4-9082-ea7df7ea7988",
   "metadata": {},
   "outputs": [],
   "source": []
  },
  {
   "cell_type": "code",
   "execution_count": null,
   "id": "3a1e7d25-c411-49c0-8031-8e101e535553",
   "metadata": {},
   "outputs": [],
   "source": []
  },
  {
   "cell_type": "markdown",
   "id": "771ebec6-337a-42ce-9195-6c4b15b4e160",
   "metadata": {},
   "source": [
    "# Q16 Is indentation required in Python ?"
   ]
  },
  {
   "cell_type": "markdown",
   "id": "d94db9f4-7f41-4710-ad7c-fbddba89231c",
   "metadata": {},
   "source": [
    "### The first line of python code cannot have an indentation. Indentation is mandatory in python to define the blocks of statements. The number of spaces must be uniform in a block of code. It is preferred to use whitespaces instead of tabs to indent in python."
   ]
  },
  {
   "cell_type": "code",
   "execution_count": null,
   "id": "04e2ea02-2647-4b33-a268-9f8cd156272c",
   "metadata": {},
   "outputs": [],
   "source": []
  }
 ],
 "metadata": {
  "kernelspec": {
   "display_name": "Python 3 (ipykernel)",
   "language": "python",
   "name": "python3"
  },
  "language_info": {
   "codemirror_mode": {
    "name": "ipython",
    "version": 3
   },
   "file_extension": ".py",
   "mimetype": "text/x-python",
   "name": "python",
   "nbconvert_exporter": "python",
   "pygments_lexer": "ipython3",
   "version": "3.10.8"
  }
 },
 "nbformat": 4,
 "nbformat_minor": 5
}
