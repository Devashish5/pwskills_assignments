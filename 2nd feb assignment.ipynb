{
 "cells": [
  {
   "cell_type": "markdown",
   "id": "f2efa747-0b9f-44ad-8f4c-fbe9ed5929ac",
   "metadata": {
    "tags": []
   },
   "source": [
    "# Q1. What are the characteristics of the tuples? Is tuple immutable?\n"
   ]
  },
  {
   "cell_type": "markdown",
   "id": "268bb320-4fe8-407e-869e-273f80be6e86",
   "metadata": {},
   "source": [
    "### Tuples are ordered ,they can be indexed and they are unchangeable.\n",
    "### tuple is immutable. the internal stored data can not be changed after it is created"
   ]
  },
  {
   "cell_type": "code",
   "execution_count": null,
   "id": "f2bb2b6c-c9bf-49c0-9300-50ca687f09d6",
   "metadata": {},
   "outputs": [],
   "source": []
  },
  {
   "cell_type": "markdown",
   "id": "43cb080a-dc42-49c1-9663-c298d541c997",
   "metadata": {},
   "source": [
    "# Q2. What are the two tuple methods in python? Give an example of each method. Give a reason why tuples have only two in-   built methods as compared to Lists."
   ]
  },
  {
   "cell_type": "markdown",
   "id": "d2cadf2f-865d-4ae3-90f1-fc7ebb9b76e1",
   "metadata": {
    "tags": []
   },
   "source": [
    "### the two tuple methods in python are count and index"
   ]
  },
  {
   "cell_type": "code",
   "execution_count": null,
   "id": "27ee8291-a1c3-4461-be89-4cb7510d134b",
   "metadata": {},
   "outputs": [],
   "source": []
  },
  {
   "cell_type": "code",
   "execution_count": 25,
   "id": "60b1c90c-ba1a-4655-b8af-0ca2db5e0fd5",
   "metadata": {},
   "outputs": [
    {
     "name": "stdout",
     "output_type": "stream",
     "text": [
      "2\n",
      "3\n"
     ]
    }
   ],
   "source": [
    "s=(2,3,4,5,5)\n",
    "lent=s.count(5)\n",
    "print (lent) #value of len is 2 as 5 occurs 2 times\n",
    "ind =s.index(5)\n",
    "print (ind) #first time occurance of 5 is at index 3"
   ]
  },
  {
   "cell_type": "markdown",
   "id": "2cda39ae-504d-4af4-a8ed-a5deb7b998f5",
   "metadata": {},
   "source": [
    "### since tuples are immutable hence changes can not be done in it hence it has only two built in functions"
   ]
  },
  {
   "cell_type": "code",
   "execution_count": null,
   "id": "1abd15c1-b099-4e29-a2cd-fda324f6085f",
   "metadata": {},
   "outputs": [],
   "source": []
  },
  {
   "cell_type": "markdown",
   "id": "85ad4eea-d143-48bb-a849-401f6ce0c2ca",
   "metadata": {},
   "source": [
    "# Q3. Which collection datatypes in python do not allow duplicate items? Write a code using a set to removeduplicates from the given list. List = [1, 1, 1, 2, 1, 3, 1, 4, 2, 1, 2, 2, 2, 3, 2, 4, 3, 1, 3, 2, 3, 3, 3, 4, 4, 1, 4, 2, 4, 3, 4, 4] "
   ]
  },
  {
   "cell_type": "markdown",
   "id": "4f0faeb1-d384-4d3f-861e-1fe261fbbbe7",
   "metadata": {},
   "source": [
    "### SET data type does not allow duplication in python"
   ]
  },
  {
   "cell_type": "code",
   "execution_count": 1,
   "id": "8f1eebb2-f98b-4ad7-9db0-7b2d3173fbd9",
   "metadata": {},
   "outputs": [],
   "source": [
    "ls=[1, 1, 1, 2, 1, 3, 1, 4, 2, 1, 2, 2, 2, 3, 2, 4, 3, 1, 3, 2, 3, 3, 3, 4, 4, 1, 4, 2, 4, 3, 4, 4]"
   ]
  },
  {
   "cell_type": "code",
   "execution_count": 2,
   "id": "bc48e673-9cb7-4e2c-9ca5-5c671d43f756",
   "metadata": {},
   "outputs": [],
   "source": [
    "se=set(ls)"
   ]
  },
  {
   "cell_type": "code",
   "execution_count": 3,
   "id": "0a183532-30a0-4271-8594-3e289567b30b",
   "metadata": {},
   "outputs": [
    {
     "data": {
      "text/plain": [
       "{1, 2, 3, 4}"
      ]
     },
     "execution_count": 3,
     "metadata": {},
     "output_type": "execute_result"
    }
   ],
   "source": [
    "se"
   ]
  },
  {
   "cell_type": "markdown",
   "id": "e40562c3-e18d-47fc-b931-c8cdb547f41a",
   "metadata": {},
   "source": [
    "# Q4. Explain the difference between the union() and update() methods for a set. Give an example of each method."
   ]
  },
  {
   "cell_type": "markdown",
   "id": "de3f65ba-ced3-486f-8a75-ad167ed44c31",
   "metadata": {},
   "source": [
    "### when two sets are added using update function a no new set is created with updated value. whereas when union function is used a new set is created and the values are updated with both orignal sets being unchanged"
   ]
  },
  {
   "cell_type": "code",
   "execution_count": 1,
   "id": "02f5c55d-8b5d-4c2e-bd19-7f4c9c71e6bb",
   "metadata": {},
   "outputs": [],
   "source": [
    "#update method\n",
    "s1={1,2,3}\n",
    "s2={4,5,6}\n",
    "s2.update(s1)"
   ]
  },
  {
   "cell_type": "code",
   "execution_count": 2,
   "id": "fb59ec83-4355-45f5-95a8-0e8ea956f9f9",
   "metadata": {},
   "outputs": [
    {
     "data": {
      "text/plain": [
       "{1, 2, 3}"
      ]
     },
     "execution_count": 2,
     "metadata": {},
     "output_type": "execute_result"
    }
   ],
   "source": [
    "s1"
   ]
  },
  {
   "cell_type": "code",
   "execution_count": 3,
   "id": "581e9ba0-aa00-4ad9-899b-d5bfe444eb74",
   "metadata": {},
   "outputs": [
    {
     "data": {
      "text/plain": [
       "{1, 2, 3, 4, 5, 6}"
      ]
     },
     "execution_count": 3,
     "metadata": {},
     "output_type": "execute_result"
    }
   ],
   "source": [
    "s2"
   ]
  },
  {
   "cell_type": "code",
   "execution_count": 4,
   "id": "42571405-337e-431a-a01e-a0d7d183fb72",
   "metadata": {},
   "outputs": [],
   "source": [
    "#union method\n",
    "s3={7,8,9}\n",
    "s4={0,3,5}\n",
    "s5=s3.union(s4)"
   ]
  },
  {
   "cell_type": "code",
   "execution_count": 5,
   "id": "0cb4cca4-8f60-4335-86e9-5cafc8ab13f6",
   "metadata": {},
   "outputs": [
    {
     "data": {
      "text/plain": [
       "{7, 8, 9}"
      ]
     },
     "execution_count": 5,
     "metadata": {},
     "output_type": "execute_result"
    }
   ],
   "source": [
    "s3"
   ]
  },
  {
   "cell_type": "code",
   "execution_count": 6,
   "id": "e9c0635f-d0b5-486c-af3f-6072ef6eb1d4",
   "metadata": {},
   "outputs": [
    {
     "data": {
      "text/plain": [
       "{0, 3, 5}"
      ]
     },
     "execution_count": 6,
     "metadata": {},
     "output_type": "execute_result"
    }
   ],
   "source": [
    "s4"
   ]
  },
  {
   "cell_type": "code",
   "execution_count": 7,
   "id": "aa91bdcd-4982-435c-a9e6-a9ef6064d776",
   "metadata": {},
   "outputs": [
    {
     "data": {
      "text/plain": [
       "{0, 3, 5, 7, 8, 9}"
      ]
     },
     "execution_count": 7,
     "metadata": {},
     "output_type": "execute_result"
    }
   ],
   "source": [
    "s5"
   ]
  },
  {
   "cell_type": "markdown",
   "id": "4315be6a-4160-4a64-a977-501f746c655c",
   "metadata": {},
   "source": [
    "# Q5. What is a dictionary? Give an example. Also, state whether a dictionary is ordered or unordered."
   ]
  },
  {
   "cell_type": "markdown",
   "id": "23d80071-d95f-4095-ad05-c127fae7d8be",
   "metadata": {},
   "source": [
    "### a dictionary is a data type used to store data in key and value pairs"
   ]
  },
  {
   "cell_type": "code",
   "execution_count": 8,
   "id": "844e2d25-f367-4ce7-963d-d2cc6418767a",
   "metadata": {},
   "outputs": [],
   "source": [
    " thisdic={\"brand\":\"ford\",\"model\":\"mustang\",\"year\":\"1969\"}"
   ]
  },
  {
   "cell_type": "code",
   "execution_count": 9,
   "id": "d3f0c052-740e-4cfe-8c4c-ecf1e7c40476",
   "metadata": {},
   "outputs": [
    {
     "data": {
      "text/plain": [
       "{'brand': 'ford', 'model': 'mustang', 'year': '1969'}"
      ]
     },
     "execution_count": 9,
     "metadata": {},
     "output_type": "execute_result"
    }
   ],
   "source": [
    "thisdic"
   ]
  },
  {
   "cell_type": "markdown",
   "id": "58872b7b-df25-43db-861a-dab325b49009",
   "metadata": {},
   "source": [
    "### dictionaries are ordered"
   ]
  },
  {
   "cell_type": "markdown",
   "id": "b80ed169-cbb0-4362-8c0f-42a906c5a477",
   "metadata": {},
   "source": [
    "# Q6. Can we create a nested dictionary? If so, please give an example by creating a simple one-level nested dictionary."
   ]
  },
  {
   "cell_type": "code",
   "execution_count": 10,
   "id": "6606a5c3-5931-46be-9df4-b68b624f7483",
   "metadata": {},
   "outputs": [],
   "source": [
    "# yes a nested dictionary can be created the example is given below:\n",
    "dic1={\"grandfather\":{\"father\":\"son\"}}"
   ]
  },
  {
   "cell_type": "code",
   "execution_count": 11,
   "id": "15e4a839-f92d-4e00-b4cd-0e8597d6ef41",
   "metadata": {},
   "outputs": [
    {
     "data": {
      "text/plain": [
       "{'grandfather': {'father': 'son'}}"
      ]
     },
     "execution_count": 11,
     "metadata": {},
     "output_type": "execute_result"
    }
   ],
   "source": [
    "dic1"
   ]
  },
  {
   "cell_type": "markdown",
   "id": "ee74a2d0-a980-4197-900f-c7ab18fbd9f6",
   "metadata": {},
   "source": [
    "# Q7. Using setdefault() method, create key named topics in the given dictionary and also add the value of the key as this list ['Python', 'Machine Learning’, 'Deep Learning'] dict1 = {'language' : 'Python', 'course': 'Data Science Masters'}"
   ]
  },
  {
   "cell_type": "code",
   "execution_count": 16,
   "id": "c8ab85ce-92ff-4243-b68f-00ae3c30193f",
   "metadata": {},
   "outputs": [],
   "source": [
    "dic2={'language' : 'Python', 'course': 'Data Science Masters'}"
   ]
  },
  {
   "cell_type": "code",
   "execution_count": 17,
   "id": "255fbb1c-1574-4ef4-bac9-6b43c33f78e8",
   "metadata": {},
   "outputs": [
    {
     "data": {
      "text/plain": [
       "{'language': 'Python', 'course': 'Data Science Masters'}"
      ]
     },
     "execution_count": 17,
     "metadata": {},
     "output_type": "execute_result"
    }
   ],
   "source": [
    "dic2"
   ]
  },
  {
   "cell_type": "code",
   "execution_count": 18,
   "id": "dcb0d3d2-b3ad-4bb0-ba9d-73be5676e910",
   "metadata": {},
   "outputs": [
    {
     "data": {
      "text/plain": [
       "['Python', 'Machine Learning', 'Deep Learning']"
      ]
     },
     "execution_count": 18,
     "metadata": {},
     "output_type": "execute_result"
    }
   ],
   "source": [
    "dic2.setdefault(\"topics\",['Python', \"Machine Learning\", \"Deep Learning\"])"
   ]
  },
  {
   "cell_type": "code",
   "execution_count": 19,
   "id": "9e442cc0-45b7-4ffc-b688-a1cf704781e3",
   "metadata": {},
   "outputs": [
    {
     "data": {
      "text/plain": [
       "{'language': 'Python',\n",
       " 'course': 'Data Science Masters',\n",
       " 'topics': ['Python', 'Machine Learning', 'Deep Learning']}"
      ]
     },
     "execution_count": 19,
     "metadata": {},
     "output_type": "execute_result"
    }
   ],
   "source": [
    "dic2"
   ]
  },
  {
   "cell_type": "code",
   "execution_count": null,
   "id": "35b92372-e02e-4d49-a3ad-5abcb576aa65",
   "metadata": {},
   "outputs": [],
   "source": []
  },
  {
   "cell_type": "markdown",
   "id": "04dd29a9-ea1e-406a-937d-8557e8e7e6bc",
   "metadata": {},
   "source": [
    "# Q8. What are the three view objects in dictionaries? Use the three in-built methods in python to display these three view objects for the given dictionary. dict1 = {'Sport': 'Cricket' , 'Teams': ['India', 'Australia', 'England', 'South Africa', 'Sri Lanka', 'New Zealand']}"
   ]
  },
  {
   "cell_type": "markdown",
   "id": "6f1ad707-ecc3-433e-9294-28fa370a206a",
   "metadata": {},
   "source": [
    "### the three view objects in dictionaries are key, values and items"
   ]
  },
  {
   "cell_type": "code",
   "execution_count": 20,
   "id": "faef8b97-1bab-43e5-a70b-8f25ea5f702a",
   "metadata": {},
   "outputs": [],
   "source": [
    "dict3 = {'Sport': 'Cricket' , 'Teams': ['India', 'Australia', 'England', 'South Africa', 'Sri Lanka', 'New Zealand']}"
   ]
  },
  {
   "cell_type": "code",
   "execution_count": 23,
   "id": "07a4b7db-5a12-4c31-aaab-e8ba171906af",
   "metadata": {},
   "outputs": [
    {
     "data": {
      "text/plain": [
       "{'Sport': 'Cricket',\n",
       " 'Teams': ['India',\n",
       "  'Australia',\n",
       "  'England',\n",
       "  'South Africa',\n",
       "  'Sri Lanka',\n",
       "  'New Zealand']}"
      ]
     },
     "execution_count": 23,
     "metadata": {},
     "output_type": "execute_result"
    }
   ],
   "source": [
    "dict3"
   ]
  },
  {
   "cell_type": "code",
   "execution_count": 24,
   "id": "d1d991c4-207e-499f-ae3c-650cb1993833",
   "metadata": {},
   "outputs": [
    {
     "data": {
      "text/plain": [
       "dict_keys(['Sport', 'Teams'])"
      ]
     },
     "execution_count": 24,
     "metadata": {},
     "output_type": "execute_result"
    }
   ],
   "source": [
    "dict3.keys()"
   ]
  },
  {
   "cell_type": "code",
   "execution_count": 25,
   "id": "0bae2c39-9a95-4425-8f42-425f77254eda",
   "metadata": {},
   "outputs": [
    {
     "data": {
      "text/plain": [
       "dict_values(['Cricket', ['India', 'Australia', 'England', 'South Africa', 'Sri Lanka', 'New Zealand']])"
      ]
     },
     "execution_count": 25,
     "metadata": {},
     "output_type": "execute_result"
    }
   ],
   "source": [
    "dict3.values()"
   ]
  },
  {
   "cell_type": "code",
   "execution_count": 26,
   "id": "b515f7b9-db73-4e04-acf1-97c0ad04945d",
   "metadata": {},
   "outputs": [
    {
     "data": {
      "text/plain": [
       "dict_items([('Sport', 'Cricket'), ('Teams', ['India', 'Australia', 'England', 'South Africa', 'Sri Lanka', 'New Zealand'])])"
      ]
     },
     "execution_count": 26,
     "metadata": {},
     "output_type": "execute_result"
    }
   ],
   "source": [
    "dict3.items()"
   ]
  },
  {
   "cell_type": "code",
   "execution_count": null,
   "id": "d8aa9aa9-b087-481c-a459-3ca78e08d1b4",
   "metadata": {},
   "outputs": [],
   "source": []
  }
 ],
 "metadata": {
  "kernelspec": {
   "display_name": "Python 3 (ipykernel)",
   "language": "python",
   "name": "python3"
  },
  "language_info": {
   "codemirror_mode": {
    "name": "ipython",
    "version": 3
   },
   "file_extension": ".py",
   "mimetype": "text/x-python",
   "name": "python",
   "nbconvert_exporter": "python",
   "pygments_lexer": "ipython3",
   "version": "3.10.8"
  }
 },
 "nbformat": 4,
 "nbformat_minor": 5
}
