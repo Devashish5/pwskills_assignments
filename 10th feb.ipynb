{
 "cells": [
  {
   "cell_type": "markdown",
   "id": "a0005f9e-d49f-4330-b3fc-f3058f333db9",
   "metadata": {},
   "source": [
    "# Q1. Which function is used to open a file? What are the different modes of opening a file? Explain each mode of file opening"
   ]
  },
  {
   "cell_type": "markdown",
   "id": "9a0d9778-fc64-44da-8697-9c85f551268c",
   "metadata": {},
   "source": [
    "### open() function is used to open a file.\n",
    "\n",
    "### Different methods of opening a file are as follows:\n",
    "### 1- \"r\" - Read mode. it is the default value . opens files for reading,an error will occur if the file does not exist\n",
    "### 2- \"w\" - Write mode. Opens the file for writing. If the file exists, it will be truncated. If the file doesn’t exist, it will be created.\n",
    "### 3- \"a\" - Open the file for writing. The file is created if it does not exist. The handle is positioned at the end of the file. The data being written will be inserted at the end, after the existing data.\n",
    "### 4- \"x\" - Exclusive creation mode. Opens the file for writing, but only if it doesn’t already exist. If the file exists, an error will be raised.\n",
    "\n",
    "### In addition we can specify if the files should be handled as binary or text mode\n",
    "### 5- \"t\" - text mode. it is the default value. if not written it is selected automatocally\n",
    "### 6- \"x\" - binary mode (can also be used in images)\n",
    "\n",
    "### 7- \"+\" - Update mode. Opens the file for both reading and writing.\n",
    "\n",
    "### few combination with update mode\n",
    "\n",
    "### \"w+\" - Open the file for reading and writing. The handle is positioned at the beginning of the file. For an existing file, data is truncated and over-written. .\n",
    "### \"r+\" - Open the file for reading and writing. The handle is positioned at the beginning of the file. Raises I/O error if the file does not exist."
   ]
  },
  {
   "cell_type": "code",
   "execution_count": null,
   "id": "b2b9d7da-a1cf-4646-9abc-c820293038e2",
   "metadata": {},
   "outputs": [],
   "source": []
  },
  {
   "cell_type": "code",
   "execution_count": null,
   "id": "6d429cbf-208b-4a4d-9c78-c2ac93139a0d",
   "metadata": {},
   "outputs": [],
   "source": []
  },
  {
   "cell_type": "markdown",
   "id": "17a3d21c-f15d-41cb-a017-55bb3a6d4f1f",
   "metadata": {},
   "source": [
    "# Q2. Why close() function is used? Why is it important to close a file?"
   ]
  },
  {
   "cell_type": "markdown",
   "id": "0ce1227f-da95-4140-b1bb-d91ddc39966e",
   "metadata": {},
   "source": [
    "### we use close() method closes an open file. It is imporant to close a file in python because Because files are limited resources managed by the operating system, making sure files are closed after use will protect against hard-to-debug issues like running out of file handles or experiencing corrupted data."
   ]
  },
  {
   "cell_type": "code",
   "execution_count": null,
   "id": "b137f384-65b2-462c-b57a-d5f2392cb265",
   "metadata": {},
   "outputs": [],
   "source": []
  },
  {
   "cell_type": "code",
   "execution_count": null,
   "id": "37e39703-36fb-4ef7-a6b0-1c811011f886",
   "metadata": {},
   "outputs": [],
   "source": []
  },
  {
   "cell_type": "markdown",
   "id": "6d4a8471-46c0-4883-b591-ecd2c8b3a9f6",
   "metadata": {},
   "source": [
    "# Q3. Write a python program to create a text file. Write ‘I want to become a Data Scientist’ in that file. Then close the file. Open this file and read the content of the file.  "
   ]
  },
  {
   "cell_type": "code",
   "execution_count": 1,
   "id": "10c7f6d5-9dbc-40dd-8d63-1203935c33d7",
   "metadata": {},
   "outputs": [
    {
     "name": "stdout",
     "output_type": "stream",
     "text": [
      "I want to become a Data Scientist\n"
     ]
    }
   ],
   "source": [
    "f=open(\"trial.txt\",\"w\")\n",
    "f.write(\"I want to become a Data Scientist\")\n",
    "f.close()\n",
    "f=open(\"trial.txt\",\"r\")\n",
    "print(f.read())"
   ]
  },
  {
   "cell_type": "code",
   "execution_count": null,
   "id": "38e799c0-fea4-4760-9272-9b946ae2f690",
   "metadata": {},
   "outputs": [],
   "source": []
  },
  {
   "cell_type": "code",
   "execution_count": null,
   "id": "6c35cc42-297d-4292-ad0e-1263c086c7ce",
   "metadata": {},
   "outputs": [],
   "source": []
  },
  {
   "cell_type": "markdown",
   "id": "082c94fc-c921-4dee-afa1-f9cd95db5b40",
   "metadata": {},
   "source": [
    "# Q4. Explain the following with python code: read(), readline() and readlines()."
   ]
  },
  {
   "cell_type": "code",
   "execution_count": 3,
   "id": "6a2abc32-3832-49cb-9efc-eb5883ad5421",
   "metadata": {},
   "outputs": [],
   "source": [
    "f=open(\"trial1.txt\",\"w\")\n",
    "f.write(\"I want to become a Data Scientist.\\n This is an intresting field.\\n this is the right time to do so\")\n",
    "f.close() "
   ]
  },
  {
   "cell_type": "code",
   "execution_count": 4,
   "id": "609da05a-ba5a-4e55-9c29-ef2a931f0db8",
   "metadata": {},
   "outputs": [
    {
     "name": "stdout",
     "output_type": "stream",
     "text": [
      "I want to become a Data Scientist.\n",
      " This is an intresting field.\n",
      " this is the right time to do so\n",
      "I want to become a Data Scientist.\n",
      "\n",
      "['I want to become a Data Scientist.\\n', ' This is an intresting field.\\n', ' this is the right time to do so']\n"
     ]
    }
   ],
   "source": [
    "# read() -  reads the entire contents of a file and returns it as a string.\n",
    "\n",
    "with open (\"trial1.txt\",\"r\") as file:\n",
    "    print(file.read())\n",
    "    \n",
    "\n",
    "# readline() - reads a single line from a file and returns it as a string. \n",
    "#            - you can read the contents of a file line by line, which can be useful for processing large files that do not fit in memory.\n",
    "\n",
    "with open (\"trial1.txt\",\"r\") as file1:\n",
    "    print(file1.readline())\n",
    "    \n",
    "\n",
    "# readline() -  reads the entire contents of a file and returns it as a list of strings, where each element of the list is a single line of the file.\n",
    "\n",
    "with open (\"trial1.txt\",\"r\") as file2:\n",
    "    print(file2.readlines())\n",
    "   "
   ]
  },
  {
   "cell_type": "code",
   "execution_count": null,
   "id": "2480857d-a3d9-4e9c-be98-b7c306365458",
   "metadata": {},
   "outputs": [],
   "source": []
  },
  {
   "cell_type": "code",
   "execution_count": null,
   "id": "31fae0d0-68a6-4389-a1d1-450e6c3d42e2",
   "metadata": {},
   "outputs": [],
   "source": []
  },
  {
   "cell_type": "markdown",
   "id": "527789ad-9d18-40dd-bf62-d12250bd7cbf",
   "metadata": {},
   "source": [
    "# Q5. Explain why with statement is used with open(). What is the advantage of using with statement and open() together?"
   ]
  },
  {
   "cell_type": "markdown",
   "id": "138fc792-aa77-471c-9d36-8fa06b6e6c92",
   "metadata": {},
   "source": [
    "### with statement is used in exception handling to make the code cleaner and much more readable. It simplifies the management of common resources like file streams.\n",
    "\n",
    "### advantages of with statment with open() is that we do not need to close the file . With statement takes care of it. The with statement itself ensures proper acquisition and release of resources."
   ]
  },
  {
   "cell_type": "code",
   "execution_count": null,
   "id": "e4b8e4c2-9601-4c95-84d8-04cd76966f7d",
   "metadata": {},
   "outputs": [],
   "source": []
  },
  {
   "cell_type": "code",
   "execution_count": null,
   "id": "42fafce1-6f21-4417-8f00-006a2830a603",
   "metadata": {},
   "outputs": [],
   "source": []
  },
  {
   "cell_type": "markdown",
   "id": "d5e677b8-fed8-4bb0-9d55-96843a885c8b",
   "metadata": {},
   "source": [
    "# Q6. Explain the write() and writelines() functions. Give a suitable example."
   ]
  },
  {
   "cell_type": "markdown",
   "id": "9ec6b8a3-6860-4ade-8b0f-0dea72b16076",
   "metadata": {},
   "source": [
    "### In Python, both write and writelines are methods that can be used to write data to a file. However, there are some key differences between the two:\n",
    "\n",
    "### write() is used to write a single string or sequence of characters to a file The string may include numbers, special characters, or symbols. While writelines() is used to write a sequence of strings to a file. The write() method does not add any new line characters, while writelines() does not add any separators between the strings."
   ]
  },
  {
   "cell_type": "code",
   "execution_count": 5,
   "id": "f7e90300-b574-4496-8e93-3002423c43b8",
   "metadata": {},
   "outputs": [],
   "source": [
    "f=open(\"trial2.txt\",\"w\")\n",
    "f.write(\"I want to become a Data Scientist.\\n This is an intresting field.\\n this is the right time to do so\\n\")\n",
    "f.close()\n",
    "\n",
    "with open (\"trial2.txt\",\"a\") as file3:\n",
    "    str1=\"let us see if this is working or not\"\n",
    "    file3.write(str1)\n",
    "     \n",
    "\n",
    "with open (\"trial2.txt\",\"a\") as file3:\n",
    "    lst=[\"\\n\" \"ass\",\"donkey\",\"horse\"]\n",
    "    file3.writelines(lst)"
   ]
  },
  {
   "cell_type": "code",
   "execution_count": null,
   "id": "0ff03da9-1ada-443e-acc1-ec6955310007",
   "metadata": {},
   "outputs": [],
   "source": []
  }
 ],
 "metadata": {
  "kernelspec": {
   "display_name": "Python 3 (ipykernel)",
   "language": "python",
   "name": "python3"
  },
  "language_info": {
   "codemirror_mode": {
    "name": "ipython",
    "version": 3
   },
   "file_extension": ".py",
   "mimetype": "text/x-python",
   "name": "python",
   "nbconvert_exporter": "python",
   "pygments_lexer": "ipython3",
   "version": "3.10.8"
  }
 },
 "nbformat": 4,
 "nbformat_minor": 5
}
