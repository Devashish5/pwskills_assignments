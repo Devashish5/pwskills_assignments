{
 "cells": [
  {
   "cell_type": "markdown",
   "id": "d6930826-d108-4b79-869b-db8a6ca9c5f0",
   "metadata": {},
   "source": [
    "# Q1. Create a function which will take a list as an argument and return the product of all the numbers after creating a flat list.\n",
    "\n",
    "# Use the below-given list as an argument for your function.\n",
    "\n",
    "\n",
    "# list1 = [1,2,3,4, [44,55,66, True], False, (34,56,78,89,34), {1,2,3,3,2,1}, {1:34, \"key2\": [55, 67, 78, 89], 4: (45,22, 61, 34)}, [56, 'data science'], 'Machine Learning']\n",
    "\n",
    "\n",
    "# Note: you must extract numeric keys and values of the dictionary also."
   ]
  },
  {
   "cell_type": "code",
   "execution_count": 4,
   "id": "ec90addf-be3d-4aaf-b88c-0a632974933a",
   "metadata": {},
   "outputs": [],
   "source": [
    "def check(i):\n",
    "    m=[]\n",
    "    for c in i:\n",
    "        \n",
    "    \n",
    "        \n",
    "        n=[]\n",
    "    # direct finding integers in list\n",
    "        if (type (c) is int): \n",
    "            n.append(c)\n",
    "        \n",
    "        # since bool is non iterable pass whenever bool appears\n",
    "        elif (type(c) is bool):\n",
    "            pass\n",
    "    \n",
    "        # for list,tuple, set \n",
    "        elif (type(c) is list) or (type(c) is set) or (type(c) is tuple) :\n",
    "            for i in c:\n",
    "                if (type(i) is int):\n",
    "                    n.append(i)\n",
    "            \n",
    "                   \n",
    "        # for dictionaries\n",
    "        elif (type(c) is dict):\n",
    "            key=list(c.keys())\n",
    "           \n",
    "            for j in key:\n",
    "                 if (type(j) is int):\n",
    "                    n.append(j)\n",
    "                    \n",
    "            value=list(c.values())\n",
    "        \n",
    "            for k in value:\n",
    "                if (type(k) is int):\n",
    "                    n.append(k)\n",
    "                \n",
    "                elif (type(k) is list):\n",
    "                    for j in k:\n",
    "                        if (type(j) is int):\n",
    "                        \n",
    "                            n.append(j)\n",
    "            \n",
    "        m.append(n) \n",
    "    flat_list = [item for sublist in m for item in sublist]\n",
    "    print (flat_list)\n",
    "        \n",
    "    x=1\n",
    "    for s in flat_list:\n",
    "        x=x*s\n",
    "            \n",
    "    return (x)\n",
    "        "
   ]
  },
  {
   "cell_type": "code",
   "execution_count": 5,
   "id": "192cdd40-3eb3-4596-b43a-a3ec9be63959",
   "metadata": {},
   "outputs": [
    {
     "name": "stdout",
     "output_type": "stream",
     "text": [
      "[1, 2, 3, 4, 44, 55, 66, 34, 56, 78, 89, 34, 1, 2, 3, 1, 4, 34, 55, 67, 78, 89, 56]\n",
      "2013730282081706885067571200\n"
     ]
    }
   ],
   "source": [
    "l1=[1,2,3,4, [44,55,66, True], False, (34,56,78,89,34), {1,2,3,3,2,1}, {1:34, \"key2\": [55, 67, 78, 89], 4: (45,22, 61, 34)}, [56, 'data science'], 'Machine Learning']\n",
    "a=check(l1)\n",
    "   \n",
    "print(a)"
   ]
  },
  {
   "cell_type": "code",
   "execution_count": null,
   "id": "e1a27e8a-53a9-49a6-9162-c56e04e0b734",
   "metadata": {},
   "outputs": [],
   "source": []
  },
  {
   "cell_type": "markdown",
   "id": "1278e967-8003-43c1-b593-e8f114bb76c1",
   "metadata": {},
   "source": [
    "# Q2. Write a python program for encrypting a message sent to you by your friend. The logic of encryption should be such that, for a the output should be z. For b, the output should be y. For c, the output should be x respectively. Also, the whitespace should be replaced with a dollar sign. Keep the punctuation marks unchanged.\n",
    "\n",
    "\n",
    "# Input Sentence: I want to become a Data Scientist.\n",
    "\n",
    "\n",
    "# Encrypt the above input sentence using the program you just created.\n",
    "\n",
    "\n",
    "# Note: Convert the given input sentence into lowercase before encrypting. The final output should be lowercase"
   ]
  },
  {
   "cell_type": "code",
   "execution_count": 2,
   "id": "d2d33fb7-1d52-4d3c-8e56-51ae04316d13",
   "metadata": {},
   "outputs": [
    {
     "name": "stdout",
     "output_type": "stream",
     "text": [
      "i want to become a data scientist.\n",
      "r$dzmg$gl$yvxlnv$z$wzgz$hxrvmgrhg."
     ]
    }
   ],
   "source": [
    "import string\n",
    "s1=\"I want to become a Data Scientist.\"\n",
    "s2=s1.lower()\n",
    "print(s2)\n",
    "special_char=set(string.punctuation)\n",
    "for i in s2:\n",
    "    if (i==\" \"):\n",
    "        print(\"$\",end='')\n",
    "    elif(i in special_char):\n",
    "        print(i,end='')\n",
    "    else:\n",
    "        print(chr(122 - ord(i) + 97),end='')"
   ]
  },
  {
   "cell_type": "code",
   "execution_count": null,
   "id": "d2116b4e-3f9d-467f-bf63-6b5c18a32ed8",
   "metadata": {},
   "outputs": [],
   "source": []
  }
 ],
 "metadata": {
  "kernelspec": {
   "display_name": "Python 3 (ipykernel)",
   "language": "python",
   "name": "python3"
  },
  "language_info": {
   "codemirror_mode": {
    "name": "ipython",
    "version": 3
   },
   "file_extension": ".py",
   "mimetype": "text/x-python",
   "name": "python",
   "nbconvert_exporter": "python",
   "pygments_lexer": "ipython3",
   "version": "3.10.8"
  }
 },
 "nbformat": 4,
 "nbformat_minor": 5
}
