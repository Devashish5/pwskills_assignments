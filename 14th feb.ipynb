{
 "cells": [
  {
   "cell_type": "markdown",
   "id": "44bdbf10-dddb-4b88-aeed-67e6b19c037d",
   "metadata": {},
   "source": [
    "# Q1 What is multithreading in python? Why is it used? Name the module used to handle threads in python."
   ]
  },
  {
   "cell_type": "markdown",
   "id": "56dfe05e-f959-4016-8dcb-7ec09f27378a",
   "metadata": {},
   "source": [
    "### Multithreading is defined as the ability of a processor to execute multiple threads concurrently.\n",
    "### Python multithreading is used because it facilitates sharing data space and resources of multiple threads with the main thread. It allows efficient and easy communication between the threads.\n",
    "### There are two main modules which can be used to handle threads in Python:\n",
    "### 1: The threading module\n",
    "### 2: The thread module (Starting with Python 3, it has been designated as obsolete and is only accessible as __thread for backward compatibility)\n"
   ]
  },
  {
   "cell_type": "code",
   "execution_count": null,
   "id": "fd712eca-e3ad-4d0f-8dc2-34815501cf4b",
   "metadata": {},
   "outputs": [],
   "source": []
  },
  {
   "cell_type": "markdown",
   "id": "fca7378c-1c82-499e-b0df-ecab493fcc11",
   "metadata": {},
   "source": [
    "# Q2  Why threading module used? Write the use of the following functions?\n",
    "# 1. activeCount()\n",
    "# 2. currentThread()\n",
    "# 3. enumerate()"
   ]
  },
  {
   "cell_type": "markdown",
   "id": "cb56e879-dee4-435b-aa42-9cc3a94493af",
   "metadata": {},
   "source": [
    "### The threading module allows multiple threads of execution to take place in a Python program.\n",
    "### 1. activeCount() - This function returns the number of Thread objects currently alive.\n",
    "### 2. currentThread() - This function will return the current Thread object, corresponding to the caller's thread of control(which is in the control of caller currently). If the caller's thread of control was not created through the threading module(for example the main thread), then a dummy thread object with limited functionality is returned.\n",
    "### 3. enumerate() - Return a list of all Thread objects currently active. The list includes daemonic threads and dummy thread objects created by current_thread(). It excludes terminated threads and threads that have not yet been started. However, the main thread is always part of the result, even when terminated."
   ]
  },
  {
   "cell_type": "code",
   "execution_count": null,
   "id": "51813440-6484-4022-8732-51a2d955322d",
   "metadata": {},
   "outputs": [],
   "source": []
  },
  {
   "cell_type": "markdown",
   "id": "8f3c82fd-9c3c-4b8e-b00b-642051e1f8f7",
   "metadata": {},
   "source": [
    "# Q3 Explain the following functions:\n",
    "# 1. run()\n",
    "# 2. start()\n",
    "# 3. join()\n",
    "# 4. isAlive()"
   ]
  },
  {
   "cell_type": "markdown",
   "id": "3f118dd0-c250-4be2-a8d0-d9a9e6c04f40",
   "metadata": {},
   "source": [
    "### 1. run() - method is an inbuilt method of the Thread class of the threading module , it is used to represent a thread's activity. It calls the method expressed as the target argument in the Thread object along with the positional and keyword arguments taken from the args and kwargs arguments, respectively.\n",
    "\n",
    "### 2. start() - method is an inbuilt method of the Thread class of the threading module, it is used to start a thread's activity. This method calls the run() method internally which then executes the target method. This method must be called at most one time for one thread. If it is called more than once, it raises a RuntimeError.\n",
    "\n",
    "### 3. join() - Whenever this method is called for any Thread object, it blocks the calling thread till the time the thread whose join() method is called terminates, either normally or through an unhandled exception.\n",
    "\n",
    "### 4. isAlive - it is used to check whether that thread is alive or not, ie, it is still running or not. This method returns True before the run() starts until just after the run() method is executed."
   ]
  },
  {
   "cell_type": "code",
   "execution_count": null,
   "id": "39e330cd-e7b1-4973-8dbc-b90de4373590",
   "metadata": {},
   "outputs": [],
   "source": []
  },
  {
   "cell_type": "markdown",
   "id": "aeb9de4c-604f-4e0f-83b8-0f8859bf40d4",
   "metadata": {},
   "source": [
    "# Q4 - Write a python program to create two threads. Thread one must print the list of squares and thread two must print the list of cubes."
   ]
  },
  {
   "cell_type": "code",
   "execution_count": 1,
   "id": "dd9fc25c-0546-4dd3-9a07-a6adb85fa50f",
   "metadata": {},
   "outputs": [
    {
     "name": "stdout",
     "output_type": "stream",
     "text": [
      "\n",
      "1 ^ 2 = 1\n",
      "\n",
      "1 ^ 3 = 1\n",
      "\n",
      "2 ^ 2 = 4\n",
      "\n",
      "2 ^ 3 = 8\n",
      "\n",
      "3 ^ 2 = 9\n",
      "\n",
      "3 ^ 3 = 27\n",
      "\n",
      "4 ^ 2 = 16\n",
      "\n",
      "4 ^ 3 = 64\n",
      "Execution Time: 0.4025568962097168\n"
     ]
    }
   ],
   "source": [
    "import threading\n",
    "import time\n",
    "\n",
    "l1=[1,2,3,4]\n",
    "\n",
    "def calc_square(numbers):\n",
    "    for n in numbers:\n",
    "        print(f'\\n{n} ^ 2 = {n*n}')\n",
    "        time.sleep(0.1)\n",
    "\n",
    "def calc_cube(numbers):\n",
    "    for n in numbers:\n",
    "        print(f'\\n{n} ^ 3 = {n*n*n}')\n",
    "        time.sleep(0.1)\n",
    "\n",
    "start = time.time()\n",
    "\n",
    "\n",
    "square_thread = threading.Thread(target=calc_square, args=(l1,))\n",
    "cube_thread = threading.Thread(target=calc_cube, args=(l1,))\n",
    "\n",
    "square_thread.start()\n",
    "cube_thread.start()\n",
    "\n",
    "square_thread.join()\n",
    "cube_thread.join()\n",
    "\n",
    "end = time.time()\n",
    "\n",
    "print('Execution Time: {}'.format(end-start))"
   ]
  },
  {
   "cell_type": "code",
   "execution_count": null,
   "id": "5ab13411-a9ba-46b2-875e-2c0ebfc53fef",
   "metadata": {},
   "outputs": [],
   "source": []
  },
  {
   "cell_type": "markdown",
   "id": "94d2c307-429d-4707-a926-26ef8792f307",
   "metadata": {},
   "source": [
    "# Q5 State advantages and disadvantages of multithreading ?"
   ]
  },
  {
   "cell_type": "markdown",
   "id": "e2de63ea-357c-4f29-a6f0-f26aeac9f712",
   "metadata": {},
   "source": [
    "# Advantages of using threads for concurrency:\n",
    "\n",
    "# 1- Lightweight: Threads are relatively lightweight, as they share the same memory space. The creation and management of threads is generally faster and requires less overhead than the creation of processes.\n",
    "\n",
    "# 2- Resource Sharing: Using shared resources makes it easy to communicate and synchronize between threads within the same process.\n",
    "\n",
    "# 3- Simplified Code: Threads simplify the design of concurrent programs, especially for I/O-bound tasks, since they run asynchronously, allowing other tasks to be executed while waiting for I/O operations to complete.\n",
    "\n",
    "# 4- Responsive GUI: By using threads in GUIs, you can ensure that the main event loop remains responsive while background processing performs time-consuming tasks.\n",
    "\n",
    "# 5- Useful for I/O-Bound Tasks: Threads are ideal for applications that have many I/O-bound tasks, where the program spends a lot of time waiting for I/O operations to complete.\n",
    "\n",
    "\n",
    "# Disadvantages of threads for concurrency:\n",
    "\n",
    "# 1- Global Interpreter Lock (GIL): The Global Interpreter Lock (GIL) limits the performance gain of using threads for CPU-bound tasks in CPython. Only one thread can execute Python bytecode at a time, preventing true parallel execution on multi-core processors.\n",
    "\n",
    "# 2- Race Conditions and Deadlocks: Managing shared resources among threads can be complex and lead to race conditions and deadlocks if synchronization mechanisms are not used correctly.\n",
    "\n",
    "# 3- Debugging Complexity: Multi-threaded programs can be difficult to debug due to non-deterministic behavior and race conditions.Limited CPU Utilization: Because of the GIL, CPU-bound tasks don't benefit significantly from threading because multiple threads can't efficiently utilize multiple CPU cores.\n",
    "\n",
    "# 4- Memory Overhead: If memory is not managed properly, threads may share the same space, leading to data corruption and unintended consequences.\n",
    "\n",
    "# 5- Platform Dependence: Python modules may not be thread-safe or behave differently on different platforms."
   ]
  },
  {
   "cell_type": "code",
   "execution_count": null,
   "id": "01c877e7-0bd8-4e69-a528-4bad87d9a4d1",
   "metadata": {},
   "outputs": [],
   "source": []
  },
  {
   "cell_type": "markdown",
   "id": "dbe8b7c3-8aa6-4dd3-9719-15fb764dbc2a",
   "metadata": {},
   "source": [
    "# Q6 -Explain deadlocks and race conditions."
   ]
  },
  {
   "cell_type": "markdown",
   "id": "340212f8-54f3-4a5d-9c3e-b315f3762ca0",
   "metadata": {},
   "source": [
    "### A race condition is When two processes are competing with each other causing data corruption.This situation will stop both threads from processing or executing the functions.\n",
    "### Deadlock exists when two threads each lock a different variable at the same time and then try to lock the variable that the other thread already locked. As a result, each thread stops executing and waits for the other thread to release the variable."
   ]
  },
  {
   "cell_type": "code",
   "execution_count": null,
   "id": "718b48d6-2a58-46c0-9f27-37105f0f6154",
   "metadata": {},
   "outputs": [],
   "source": []
  }
 ],
 "metadata": {
  "kernelspec": {
   "display_name": "Python 3 (ipykernel)",
   "language": "python",
   "name": "python3"
  },
  "language_info": {
   "codemirror_mode": {
    "name": "ipython",
    "version": 3
   },
   "file_extension": ".py",
   "mimetype": "text/x-python",
   "name": "python",
   "nbconvert_exporter": "python",
   "pygments_lexer": "ipython3",
   "version": "3.10.8"
  }
 },
 "nbformat": 4,
 "nbformat_minor": 5
}
