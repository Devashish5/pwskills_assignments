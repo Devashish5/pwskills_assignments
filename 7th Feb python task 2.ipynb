{
 "cells": [
  {
   "cell_type": "markdown",
   "id": "01f264f9-2048-4367-addc-5c465a5bc6e7",
   "metadata": {},
   "source": [
    "# Q1. You are writing code for a company. The requirement of the company is that you create a python function that will check whether the password entered by the user is correct or not. The function should take the password as input and return the string “Valid Password” if the entered password follows the below-given password guidelines else it should return “Invalid Password”.\n",
    "\n",
    "# Note: \n",
    "# 1. The Password should contain at least two uppercase letters and at least two lowercase letters.\n",
    "# 2. The Password should contain at least a number and three special characters.\n",
    "# 3. The length of the password should be 10 characters long."
   ]
  },
  {
   "cell_type": "code",
   "execution_count": null,
   "id": "7af5d48a-e63b-41ba-aefe-bd083e4ea4ed",
   "metadata": {},
   "outputs": [],
   "source": []
  },
  {
   "cell_type": "code",
   "execution_count": 4,
   "id": "f91333d7-3c07-432b-b4b7-d7978c345106",
   "metadata": {},
   "outputs": [
    {
     "name": "stdin",
     "output_type": "stream",
     "text": [
      "enter password DonKEY2023@$%!\n"
     ]
    },
    {
     "name": "stdout",
     "output_type": "stream",
     "text": [
      "valid password\n"
     ]
    }
   ],
   "source": [
    "pasword=input(\"enter password\")\n",
    "print(check_valid_pwd(pasword))"
   ]
  },
  {
   "cell_type": "code",
   "execution_count": null,
   "id": "70a4f165-42dd-4480-8aa2-77381287620b",
   "metadata": {},
   "outputs": [],
   "source": []
  },
  {
   "cell_type": "code",
   "execution_count": 3,
   "id": "88c97fdf-498e-4c0c-8751-157a9d78ab70",
   "metadata": {},
   "outputs": [],
   "source": [
    "import string\n",
    "def check_valid_pwd(pwd):\n",
    "    \n",
    "    \n",
    "    count_upper=0\n",
    "    count_lower=0\n",
    "    count_digit=0\n",
    "    count_spec_chr=0\n",
    "    cond_len=len(pwd)\n",
    "    for i in pwd:\n",
    "        if (i.isupper()):\n",
    "            count_upper+=1\n",
    "        if (i.islower()):\n",
    "            count_lower+=1\n",
    "        if (i.isdigit()):\n",
    "            count_digit+=1\n",
    "        if (i in (string.punctuation)):\n",
    "            count_spec_chr+=1\n",
    "        #if (len(pwd)==10):\n",
    "            #cond_len=1\n",
    "    if ((count_upper>=2) and (count_lower>=2) and (count_digit>=1) and (count_spec_chr>=3) and (cond_len>=10)):\n",
    "        return_value=\"valid password\"\n",
    "    else:\n",
    "        return_value=\"invalid password\"\n",
    "    return (return_value)\n",
    "            \n",
    "    "
   ]
  },
  {
   "cell_type": "code",
   "execution_count": null,
   "id": "d2003128-33de-4c51-8da0-23c79b48fe84",
   "metadata": {},
   "outputs": [],
   "source": []
  },
  {
   "cell_type": "markdown",
   "id": "36398cf1-b821-4723-bb6e-6746b88e7cf4",
   "metadata": {},
   "source": [
    "# Q2. Solve the below-given questions using at least one of the following:\n",
    "# 1. Lambda function\n",
    "# 2. Filter function\n",
    "# 3. Map function\n",
    "# 4. List Comprehension\n",
    "\n",
    "# A- Check if the string starts with a particular letter.\n",
    "# B- Check if the string is numeric.\n",
    "# C- Sort a list of tuples having fruit names and their quantity. [(\"mango\",99),(\"orange\",80), (\"grapes\", 1000)]\n",
    "# D-  Find the squares of numbers from 1 to 10.\n",
    "# E- Find the cube root of numbers from 1 to 10.\n",
    "# F- Check if a given number is even.\n",
    "# G- Filter odd numbers from the given list.[1,2,3,4,5,6,7,8,9,10]\n",
    "# H- Sort a list of integers into positive and negative integers lists.[1,2,3,4,5,6,-1,-2,-3,-4,-5,0]"
   ]
  },
  {
   "cell_type": "code",
   "execution_count": 4,
   "id": "5b1b4f50-3971-4232-8e66-7f2f34ad4b93",
   "metadata": {},
   "outputs": [
    {
     "name": "stdin",
     "output_type": "stream",
     "text": [
      "enter a string elephant\n",
      "enter the character to be found e\n"
     ]
    },
    {
     "name": "stdout",
     "output_type": "stream",
     "text": [
      "True\n"
     ]
    }
   ],
   "source": [
    "# A- check if the string starts with a particular character\n",
    "\n",
    "# lambda function used\n",
    "\n",
    "string=input(\"enter a string\")\n",
    "character=input(\"enter the character to be found\")\n",
    "char_in_string=lambda string,character: True if (character == string[0]) else False \n",
    "print(char_in_string(string,character))"
   ]
  },
  {
   "cell_type": "code",
   "execution_count": 5,
   "id": "638445f5-5800-4d61-b5c1-b48ecec82daf",
   "metadata": {},
   "outputs": [
    {
     "name": "stdin",
     "output_type": "stream",
     "text": [
      "input string to be check 95876324\n"
     ]
    },
    {
     "name": "stdout",
     "output_type": "stream",
     "text": [
      "True\n"
     ]
    }
   ],
   "source": [
    "# B- Check if the string is numeric\n",
    "\n",
    "# lambda function used\n",
    "\n",
    "string=input(\"input string to be check\")\n",
    "string_isnumeric=lambda string: True if string.isnumeric() else False\n",
    "print(string_isnumeric(string))"
   ]
  },
  {
   "cell_type": "code",
   "execution_count": 6,
   "id": "53a0c2b9-39fd-402e-bece-632f60637d5e",
   "metadata": {},
   "outputs": [
    {
     "name": "stdout",
     "output_type": "stream",
     "text": [
      "[('orange', 80), ('mango', 99), ('grapes', 1000)]\n"
     ]
    }
   ],
   "source": [
    "# C-Sort a list of tuples having fruit names and their quantity.\n",
    "\n",
    "# lambda function used\n",
    "\n",
    "def Sort_Tuple(tup):\n",
    "    tup.sort(key = lambda x: x[1])\n",
    "    return tup\n",
    "tup = [(\"mango\",99),(\"orange\",80), (\"grapes\", 1000)]\n",
    "print(Sort_Tuple(tup))"
   ]
  },
  {
   "cell_type": "code",
   "execution_count": 7,
   "id": "8cb668a7-5c17-4bfc-8718-a303a51aa586",
   "metadata": {},
   "outputs": [
    {
     "data": {
      "text/plain": [
       "[1, 4, 9, 16, 25, 36, 49, 64, 81, 100]"
      ]
     },
     "execution_count": 7,
     "metadata": {},
     "output_type": "execute_result"
    }
   ],
   "source": [
    "# D-Find the squares of numbers from 1 to 10.\n",
    "\n",
    "# map function used \n",
    "\n",
    "l=[1,2,3,4,5,6,7,8,9,10]\n",
    "def sq(x):\n",
    "    return x**2\n",
    "list(map(sq,l))"
   ]
  },
  {
   "cell_type": "code",
   "execution_count": 8,
   "id": "ea221558-67f7-442a-97bd-201fadc62418",
   "metadata": {},
   "outputs": [
    {
     "name": "stdout",
     "output_type": "stream",
     "text": [
      "[1, 8, 27, 64, 125, 216, 343, 512, 729, 1000]\n"
     ]
    }
   ],
   "source": [
    "# E-Find the cube root of numbers from 1 to 10.\n",
    "\n",
    "# list comprehension used\n",
    "\n",
    "l=[1,2,3,4,5,6,7,8,9,10]\n",
    "l1=[x**3 for x in l ]\n",
    "print(l1)"
   ]
  },
  {
   "cell_type": "code",
   "execution_count": 9,
   "id": "92163476-7e73-4038-8519-9c052ba7ea90",
   "metadata": {},
   "outputs": [
    {
     "name": "stdin",
     "output_type": "stream",
     "text": [
      "enter a number 34\n"
     ]
    },
    {
     "name": "stdout",
     "output_type": "stream",
     "text": [
      "True\n"
     ]
    }
   ],
   "source": [
    "# F-Check if a given number is even.\n",
    "\n",
    "# lambda function used\n",
    "\n",
    "num=int(input(\"enter a number\"))\n",
    "a=lambda num : True if (num%2 == 0) else False\n",
    "print(a(num))\n"
   ]
  },
  {
   "cell_type": "code",
   "execution_count": 10,
   "id": "65e4f534-b4a7-4b35-b8fc-850524dff576",
   "metadata": {},
   "outputs": [
    {
     "data": {
      "text/plain": [
       "[1, 3, 5, 7, 9]"
      ]
     },
     "execution_count": 10,
     "metadata": {},
     "output_type": "execute_result"
    }
   ],
   "source": [
    "# G-Filter odd numbers from the given list.[1,2,3,4,5,6,7,8,9,10]\n",
    "\n",
    "# using filter and lambda function\n",
    "\n",
    "lst=[1,2,3,4,5,6,7,8,9,10]\n",
    "list(filter(lambda x:x%2 !=0 , lst))"
   ]
  },
  {
   "cell_type": "code",
   "execution_count": 13,
   "id": "75303a71-cb2d-4e08-8128-e583c5370baf",
   "metadata": {},
   "outputs": [
    {
     "name": "stdout",
     "output_type": "stream",
     "text": [
      "[1, 2, 3, 4, 5, 6]\n",
      "[-1, -2, -3, -4, -5]\n"
     ]
    }
   ],
   "source": [
    "# H- Sort a list of integers into positive and negative integers lists.[1,2,3,4,5,6,-1,-2,-3,-4,-5,0]\n",
    "\n",
    "# # using filter and lambda function\n",
    "\n",
    "lst= [1,2,3,4,5,6,-1,-2,-3,-4,-5,0]\n",
    "positive=list(filter(lambda x:x>0,lst))\n",
    "negative=list(filter(lambda x:x<0,lst))\n",
    "print(positive)\n",
    "print(negative)"
   ]
  },
  {
   "cell_type": "code",
   "execution_count": null,
   "id": "e32592a5-05a4-4d47-a4c6-8cd466cd569f",
   "metadata": {},
   "outputs": [],
   "source": []
  }
 ],
 "metadata": {
  "kernelspec": {
   "display_name": "Python 3 (ipykernel)",
   "language": "python",
   "name": "python3"
  },
  "language_info": {
   "codemirror_mode": {
    "name": "ipython",
    "version": 3
   },
   "file_extension": ".py",
   "mimetype": "text/x-python",
   "name": "python",
   "nbconvert_exporter": "python",
   "pygments_lexer": "ipython3",
   "version": "3.10.8"
  }
 },
 "nbformat": 4,
 "nbformat_minor": 5
}
